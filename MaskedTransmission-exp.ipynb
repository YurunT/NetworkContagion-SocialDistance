{
 "cells": [
  {
   "cell_type": "code",
   "execution_count": 12,
   "metadata": {},
   "outputs": [],
   "source": [
    "import random\n",
    "import numpy as np\n",
    "import networkx as nx\n",
    "import matplotlib.pyplot as plt\n",
    "from networkx.utils import powerlaw_sequence\n",
    "from networkx.algorithms.dag import dag_longest_path"
   ]
  },
  {
   "cell_type": "markdown",
   "metadata": {},
   "source": [
    "# Function 1.Generate graph by Configuration Model"
   ]
  },
  {
   "cell_type": "markdown",
   "metadata": {},
   "source": [
    "Generate a degree sequence with **nodeN** nodes, and **meanDegree**\n",
    "\n"
   ]
  },
  {
   "cell_type": "code",
   "execution_count": 37,
   "metadata": {},
   "outputs": [],
   "source": [
    "def generate_graph(nodeN, mean_degree):\n",
    "    # Generate degree sequence\n",
    "    sequence = np.random.poisson(mean_degree, nodeN)\n",
    "    while (np.sum(sequence) % 2 !=0):\n",
    "        sequence = np.random.poisson(mean_degree, nodeN)\n",
    "    # sequence = nx.random_powerlaw_tree_sequence(nodeN, tries=5000)\n",
    "\n",
    "    # Generate Graph according to the degree sequence\n",
    "    G = nx.configuration_model(sequence)\n",
    "\n",
    "    # Remove parallel edges\n",
    "    G = nx.Graph(G)\n",
    "\n",
    "    # Remove self-loops\n",
    "    G.remove_edges_from(nx.selfloop_edges(G))\n",
    "    return G    "
   ]
  },
  {
   "cell_type": "markdown",
   "metadata": {},
   "source": [
    "# Function 2. Decide nodes' mask wearing states\n",
    "\n",
    "## P(A person wears a mask) = m"
   ]
  },
  {
   "cell_type": "markdown",
   "metadata": {},
   "source": [
    "Generate the mask wearing states of each node."
   ]
  },
  {
   "cell_type": "code",
   "execution_count": 38,
   "metadata": {},
   "outputs": [],
   "source": [
    "def init_mask(G, mask_prob):\n",
    "    # A list of 1 and 0 indicating mask wearing or not\n",
    "    # 1 means wear mask, 0 means not wearing a mask\n",
    "    masks = np.random.binomial(1, mask_prob, nodeN)\n",
    "\n",
    "    # Node idx\n",
    "    nodes = np.linspace(0, nodeN - 1, nodeN, dtype = int)\n",
    "    # Dict of node attributes\n",
    "    mask_dict = dict(zip(nodes, masks))\n",
    "\n",
    "    # Set nodes attributes\n",
    "    nx.set_node_attributes(G, mask_dict, 'mask')    \n",
    "    return G, mask_dict"
   ]
  },
  {
   "cell_type": "markdown",
   "metadata": {},
   "source": [
    "# Function 3. Init nodes infection states to all 0 (not infected)"
   ]
  },
  {
   "cell_type": "code",
   "execution_count": 39,
   "metadata": {},
   "outputs": [],
   "source": [
    "def init_infected(G):\n",
    "    # Init all nodes to be healthy\n",
    "    infected = np.zeros(nodeN, dtype = int)\n",
    "\n",
    "    # Node idx\n",
    "    nodes = np.linspace(0, nodeN - 1, nodeN, dtype = int)\n",
    "\n",
    "    # Dict of node attributes\n",
    "    infected_dict = dict(zip(nodes, infected))\n",
    "\n",
    "    # Set nodes attributes\n",
    "    nx.set_node_attributes(G, infected_dict, 'infected')\n",
    "    \n",
    "    return G, infected_dict   "
   ]
  },
  {
   "cell_type": "markdown",
   "metadata": {},
   "source": [
    "# Function 4. Generate the BFS tree structures for each components"
   ]
  },
  {
   "cell_type": "code",
   "execution_count": 40,
   "metadata": {},
   "outputs": [],
   "source": [
    "def generate_BFS_tree(G, mask_dict, infected_dict):\n",
    "    # Get all the connected components\n",
    "    components = list(nx.connected_components(G))\n",
    "\n",
    "    # Roots stores the randomly selected root for each components\n",
    "    roots = []\n",
    "    for component in components:\n",
    "        roots.append(random.choice(list(component)))\n",
    "        \n",
    "    # Convert the components to a BFS tree-like structure, with randomly selected roots\n",
    "    # Trees stores all the tree-structured components\n",
    "    Trees = []\n",
    "    for root in roots:\n",
    "        T = nx.bfs_tree(G, source = root)\n",
    "        nx.set_node_attributes(T, mask_dict, 'mask')\n",
    "        nx.set_node_attributes(T, infected_dict, 'infected')\n",
    "        Trees.append(T)\n",
    "    \n",
    "    return roots, Trees"
   ]
  },
  {
   "cell_type": "markdown",
   "metadata": {},
   "source": [
    "# Function 5. Starting the infection process with 1 virus strain \n",
    "\n",
    "**Notice**\n",
    "Infection starts from root to the leaves\n",
    "\n",
    "| Infectious    |  Susceptible   | Transmissibillity     | Notation |\n",
    "| :------------- | :----------: | :----------- | :----------- |\n",
    "| 1             | 0              | T * T_mask^2 * m      | T_1 |\n",
    "| 1             | 1              | T * T_mask * (1 - m)  | T_2 |\n",
    "| 0             | 0              | T * (1 - m)           | T_3 |\n",
    "| 0             | 1              | T * T_mask * m        | T_4 |\n",
    "\n",
    "\n"
   ]
  },
  {
   "cell_type": "code",
   "execution_count": 41,
   "metadata": {},
   "outputs": [],
   "source": [
    "def generate_new_transmissibilities(T_mask, T, m):\n",
    "    roundN = 5 # Round T to roundN digits\n",
    "    T1 = round(T * T_mask * T_mask * m, roundN)\n",
    "    T2 = round(T * T_mask * (1 - m), roundN)\n",
    "    T3 = round(T * (1 - m), roundN)\n",
    "    T4 = round(T * T_mask * m , roundN)\n",
    "\n",
    "    trans_dict = {'T1': T1,\n",
    "                  'T2': T2,\n",
    "                  'T3': T3,\n",
    "                  'T4': T4}\n",
    "\n",
    "    print(\"T1: %.5f\" %T1)\n",
    "    print(\"T2: %.5f\" %T2)\n",
    "    print(\"T3: %.5f\" %T3)\n",
    "    print(\"T4: %.5f\" %T4)\n",
    "    \n",
    "    return trans_dict    "
   ]
  },
  {
   "cell_type": "markdown",
   "metadata": {},
   "source": [
    "# Function 6: Traverse from the root nodes using bfs search\n",
    "\n",
    "Starting with 1 seed"
   ]
  },
  {
   "cell_type": "code",
   "execution_count": 42,
   "metadata": {},
   "outputs": [],
   "source": [
    "def start_infection(Trees, roots, trans_dict, infected_dict):\n",
    "    for idx, tree in enumerate(Trees): \n",
    "#         print(\"TREE No.\", idx)\n",
    "\n",
    "        edge_attr = dict()\n",
    "        root = roots[idx]\n",
    "        dfs_edges = list(nx.bfs_edges(tree, source = root))\n",
    "        total_depth = nx.dag_longest_path_length(tree)\n",
    "\n",
    "        nx.set_node_attributes(tree, infected_dict, 'infected')\n",
    "        nx.set_node_attributes(tree, {root: 1}, 'infected') # Let root node be infected by nature\n",
    "\n",
    "\n",
    "        for depth in range(1, total_depth + 1): # Transmitted level by level\n",
    "#             print('LEVEL %d' % depth)\n",
    "\n",
    "            if depth == 1: # Get only this level's node pairs\n",
    "                dfs_edges = list(nx.dfs_edges(tree, source = root, depth_limit = depth))\n",
    "\n",
    "            else: \n",
    "\n",
    "                dfs_edges = set(nx.dfs_edges(tree, source = root, depth_limit = depth)) - \\\n",
    "                            set(nx.dfs_edges(tree, source = root, depth_limit = depth - 1))\n",
    "\n",
    "\n",
    "            for father, son in dfs_edges: # Check each node pairs in this level\n",
    "#                 print(\"(%d, %d), node %d is_infected = %d\" %(father, son, father, tree.nodes[father]['infected'] ))\n",
    "\n",
    "                if tree.nodes[father]['infected'] == 1: \n",
    "\n",
    "                    # Decide which transmissibility\n",
    "                    if tree.nodes[father]['mask'] == 1 and tree.nodes[son]['mask'] == 0:\n",
    "                        T_edge = 'T1'\n",
    "                    elif tree.nodes[father]['mask'] == 1 and tree.nodes[son]['mask'] == 1:\n",
    "                        T_edge = 'T2'\n",
    "                    elif tree.nodes[father]['mask'] == 0 and tree.nodes[son]['mask'] == 0:\n",
    "                        T_edge = 'T3'\n",
    "                    else:\n",
    "                        T_edge = 'T4'\n",
    "\n",
    "                    edge_attr[(father,son)] = {'T': T_edge}\n",
    "\n",
    "\n",
    "                    # Set the 'Transmissibility'edge attrs\n",
    "                    nx.set_edge_attributes(tree, edge_attr)\n",
    "\n",
    "\n",
    "                    # Decide if the susceptible is infected\n",
    "                    is_infected = int(random.random() < trans_dict[T_edge])\n",
    "\n",
    "#                     if is_infected:\n",
    "#                         print(\"node %d is infected with %s\" %(son, T_edge))\n",
    "#                     else:\n",
    "#                         print(\"node %d is not infected\" %(son))\n",
    "\n",
    "\n",
    "                    # Set the 'infected' node attr accordingly\n",
    "                    nx.set_node_attributes(tree, {son: is_infected}, 'infected')    "
   ]
  },
  {
   "cell_type": "markdown",
   "metadata": {},
   "source": [
    "## Look at the infected result\n",
    "\n",
    "change i to look at different sub-trees"
   ]
  },
  {
   "cell_type": "code",
   "execution_count": 43,
   "metadata": {
    "scrolled": false
   },
   "outputs": [
    {
     "ename": "NameError",
     "evalue": "name 'Trees' is not defined",
     "output_type": "error",
     "traceback": [
      "\u001b[0;31m---------------------------------------------------------------------------\u001b[0m",
      "\u001b[0;31mNameError\u001b[0m                                 Traceback (most recent call last)",
      "\u001b[0;32m<ipython-input-43-4ef23ca9a065>\u001b[0m in \u001b[0;36m<module>\u001b[0;34m\u001b[0m\n\u001b[1;32m      1\u001b[0m \u001b[0mi\u001b[0m \u001b[0;34m=\u001b[0m \u001b[0;36m0\u001b[0m\u001b[0;34m\u001b[0m\u001b[0;34m\u001b[0m\u001b[0m\n\u001b[0;32m----> 2\u001b[0;31m \u001b[0mpos\u001b[0m \u001b[0;34m=\u001b[0m \u001b[0mnx\u001b[0m\u001b[0;34m.\u001b[0m\u001b[0mnx_agraph\u001b[0m\u001b[0;34m.\u001b[0m\u001b[0mgraphviz_layout\u001b[0m\u001b[0;34m(\u001b[0m\u001b[0mTrees\u001b[0m\u001b[0;34m[\u001b[0m\u001b[0mi\u001b[0m\u001b[0;34m]\u001b[0m\u001b[0;34m)\u001b[0m\u001b[0;34m\u001b[0m\u001b[0;34m\u001b[0m\u001b[0m\n\u001b[0m\u001b[1;32m      3\u001b[0m \u001b[0;34m\u001b[0m\u001b[0m\n\u001b[1;32m      4\u001b[0m \u001b[0mnx\u001b[0m\u001b[0;34m.\u001b[0m\u001b[0mdraw\u001b[0m\u001b[0;34m(\u001b[0m\u001b[0mTrees\u001b[0m\u001b[0;34m[\u001b[0m\u001b[0mi\u001b[0m\u001b[0;34m]\u001b[0m\u001b[0;34m,\u001b[0m \u001b[0mpos\u001b[0m\u001b[0;34m,\u001b[0m \u001b[0mwith_labels\u001b[0m \u001b[0;34m=\u001b[0m \u001b[0;32mFalse\u001b[0m\u001b[0;34m)\u001b[0m\u001b[0;34m\u001b[0m\u001b[0;34m\u001b[0m\u001b[0m\n\u001b[1;32m      5\u001b[0m \u001b[0;34m\u001b[0m\u001b[0m\n",
      "\u001b[0;31mNameError\u001b[0m: name 'Trees' is not defined"
     ]
    }
   ],
   "source": [
    "i = 0\n",
    "pos = nx.nx_agraph.graphviz_layout(Trees[i])\n",
    "\n",
    "nx.draw(Trees[i], pos, with_labels = False)\n",
    "\n",
    "# # Show nodes' attrs\n",
    "node_labels = nx.get_node_attributes(Trees[i],'infected')\n",
    "nx.draw_networkx_labels(Trees[i], pos, labels = node_labels)\n",
    "print(\"root node:\", roots[i])\n",
    "# Show edges' attrs\n",
    "edge_labels = nx.get_edge_attributes(Trees[i],'T')\n",
    "nx.draw_networkx_edge_labels(Trees[i], pos, labels = edge_labels)"
   ]
  },
  {
   "cell_type": "markdown",
   "metadata": {},
   "source": [
    "# Function 7: Calculate the Epidemic size for a G"
   ]
  },
  {
   "cell_type": "code",
   "execution_count": 44,
   "metadata": {},
   "outputs": [],
   "source": [
    "def cal_EpdSize_Trees(Trees):\n",
    "    E_S = []\n",
    "    for idx, tree  in enumerate(Trees):\n",
    "        res = np.array(list(tree.nodes.data('infected')))\n",
    "#         print(res)\n",
    "        es = sum(res[:,1]) / res.shape[0]\n",
    "        E_S.append(es)\n",
    "#         print(\"Tree %d Epidemic Size: %.3f\" %(idx, es))\n",
    "    avg_ES = sum(E_S) / len(E_S)\n",
    "    print('Avg Epidemic Size:', avg_ES)\n",
    "    return avg_ES    "
   ]
  },
  {
   "cell_type": "markdown",
   "metadata": {},
   "source": [
    "# Function 0: Run the experiment"
   ]
  },
  {
   "cell_type": "code",
   "execution_count": 48,
   "metadata": {},
   "outputs": [],
   "source": [
    "def runExp_mask(expN, mean_degree, nodeN, mask_prob, T_mask, T, ):\n",
    "    '''\n",
    "    Arg: \n",
    "    mean_degree: Random graph's mean degree\n",
    "    nodeN:       Node number\n",
    "    mask_prob:   P(a person wearing a mask)\n",
    "    T_mask:      The impact of wearing a mask\n",
    "    T:           The transmissibility of a real strain\n",
    "    \n",
    "    '''\n",
    "    print(\"EXP\", expN)\n",
    "    G = generate_graph(nodeN, mean_degree)\n",
    "    G, mask_dict = init_mask(G, mask_prob)\n",
    "    G, infected_dict = init_infected(G)\n",
    "    roots, Trees = generate_BFS_tree(G, mask_dict, infected_dict)\n",
    "    \n",
    "    # Transmission with mask\n",
    "    trans_dict_mask = generate_new_transmissibilities(T_mask, T, mask_prob) #\n",
    "    start_infection(Trees, roots, trans_dict_mask, infected_dict) #\n",
    "    cal_EpdSize_Trees(Trees)       "
   ]
  },
  {
   "cell_type": "code",
   "execution_count": 49,
   "metadata": {},
   "outputs": [],
   "source": [
    "expN = 1\n",
    "mean_degree = 2\n",
    "nodeN = 20\n",
    "mask_prob = 0.6\n",
    "T_mask = 0.1\n",
    "T = 0.8"
   ]
  },
  {
   "cell_type": "code",
   "execution_count": 50,
   "metadata": {},
   "outputs": [
    {
     "name": "stdout",
     "output_type": "stream",
     "text": [
      "EXP 1\n",
      "T1: 0.00480\n",
      "T2: 0.03200\n",
      "T3: 0.32000\n",
      "T4: 0.04800\n",
      "Avg Epidemic Size: 0.6851851851851851\n"
     ]
    }
   ],
   "source": [
    "runExp_mask(expN, mean_degree, nodeN, mask_prob, T_mask, T)"
   ]
  },
  {
   "cell_type": "code",
   "execution_count": null,
   "metadata": {},
   "outputs": [],
   "source": []
  }
 ],
 "metadata": {
  "kernelspec": {
   "display_name": "Python3 (ytian)",
   "language": "python",
   "name": "ytian"
  },
  "language_info": {
   "codemirror_mode": {
    "name": "ipython",
    "version": 3
   },
   "file_extension": ".py",
   "mimetype": "text/x-python",
   "name": "python",
   "nbconvert_exporter": "python",
   "pygments_lexer": "ipython3",
   "version": "3.7.4"
  }
 },
 "nbformat": 4,
 "nbformat_minor": 2
}
