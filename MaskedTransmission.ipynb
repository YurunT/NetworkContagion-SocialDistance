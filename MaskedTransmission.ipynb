{
 "cells": [
  {
   "cell_type": "code",
   "execution_count": 9,
   "metadata": {},
   "outputs": [],
   "source": [
    "import random\n",
    "import numpy as np\n",
    "import networkx as nx\n",
    "import matplotlib.pyplot as plt\n",
    "from networkx.utils import powerlaw_sequence\n",
    "from networkx.algorithms.dag import dag_longest_path"
   ]
  },
  {
   "cell_type": "markdown",
   "metadata": {},
   "source": [
    "To be discussed\n",
    "\n",
    "1. Deal with not connected components\n",
    "2. Deal with cyclic graph\n",
    "3. Start from root"
   ]
  },
  {
   "cell_type": "markdown",
   "metadata": {},
   "source": [
    "# 1.Generate graph by Configuration Model"
   ]
  },
  {
   "cell_type": "markdown",
   "metadata": {},
   "source": [
    "Generate a degree sequence with **nodeN** nodes, and **meanDegree**\n",
    "\n"
   ]
  },
  {
   "cell_type": "code",
   "execution_count": 10,
   "metadata": {},
   "outputs": [],
   "source": [
    "nodeN = 10000"
   ]
  },
  {
   "cell_type": "code",
   "execution_count": 11,
   "metadata": {},
   "outputs": [],
   "source": [
    "# Generate degree sequence\n",
    "sequence = np.random.poisson(2, nodeN)\n",
    "# sequence = nx.random_powerlaw_tree_sequence(nodeN, tries=5000)\n",
    "\n",
    "# Generate Graph according to the degree sequence\n",
    "G = nx.configuration_model(sequence)\n",
    "\n",
    "# Remove parallel edges\n",
    "G = nx.Graph(G)\n",
    "\n",
    "# Remove self-loops\n",
    "G.remove_edges_from(nx.selfloop_edges(G))"
   ]
  },
  {
   "cell_type": "markdown",
   "metadata": {},
   "source": [
    "Generated Graph\n",
    "\n",
    "**Notice:** Generated grapsh might have **cycles** and **not** connected"
   ]
  },
  {
   "cell_type": "code",
   "execution_count": 6,
   "metadata": {
    "scrolled": true
   },
   "outputs": [
    {
     "data": {
      "image/png": "[encoded data removed]",
      "text/plain": [
       "<Figure size 432x288 with 1 Axes>"
      ]
     },
     "metadata": {},
     "output_type": "display_data"
    }
   ],
   "source": [
    "nx.draw(G, with_labels=True, font_weight='bold')"
   ]
  },
  {
   "cell_type": "markdown",
   "metadata": {},
   "source": [
    "# 2. Decide nodes' mask wearing states\n",
    "\n",
    "## P(A person wears a mask) = m"
   ]
  },
  {
   "cell_type": "code",
   "execution_count": 38,
   "metadata": {},
   "outputs": [],
   "source": [
    "m = 0.6"
   ]
  },
  {
   "cell_type": "markdown",
   "metadata": {},
   "source": [
    "Generate the mask wearing states of each node."
   ]
  },
  {
   "cell_type": "code",
   "execution_count": 39,
   "metadata": {},
   "outputs": [],
   "source": [
    "# A list of 1 and 0 indicating mask wearing or not\n",
    "# 1 means wear mask, 0 means not wearing a mask\n",
    "masks = np.random.binomial(1, m, nodeN)\n",
    "\n",
    "# Node idx\n",
    "nodes = np.linspace(0, nodeN - 1, nodeN, dtype = int)\n",
    "# Dict of node attributes\n",
    "mask_dict = dict(zip(nodes, masks))\n",
    "\n",
    "# Set nodes attributes\n",
    "nx.set_node_attributes(G, mask_dict, 'mask')"
   ]
  },
  {
   "cell_type": "markdown",
   "metadata": {},
   "source": [
    "Check nodes's mask wearing states"
   ]
  },
  {
   "cell_type": "code",
   "execution_count": 40,
   "metadata": {},
   "outputs": [
    {
     "data": {
      "text/plain": [
       "array([0, 0, 1, 1, 1, 1, 1, 0, 1, 1])"
      ]
     },
     "execution_count": 40,
     "metadata": {},
     "output_type": "execute_result"
    }
   ],
   "source": [
    "masks"
   ]
  },
  {
   "cell_type": "markdown",
   "metadata": {},
   "source": [
    "# 3. Init nodes infection states to all 0 (not infected)"
   ]
  },
  {
   "cell_type": "code",
   "execution_count": 41,
   "metadata": {},
   "outputs": [],
   "source": [
    "# Init all nodes to be healthy\n",
    "infected = np.zeros(nodeN, dtype = int)\n",
    "\n",
    "# Node idx\n",
    "nodes = np.linspace(0, nodeN - 1, nodeN, dtype = int)\n",
    "\n",
    "# Dict of node attributes\n",
    "infected_dict = dict(zip(nodes, infected))\n",
    "\n",
    "# Set nodes attributes\n",
    "nx.set_node_attributes(G, infected_dict, 'infected')"
   ]
  },
  {
   "cell_type": "markdown",
   "metadata": {},
   "source": [
    "Check nodes' infected attributes"
   ]
  },
  {
   "cell_type": "code",
   "execution_count": 42,
   "metadata": {},
   "outputs": [
    {
     "data": {
      "text/plain": [
       "array([0, 0, 0, 0, 0, 0, 0, 0, 0, 0])"
      ]
     },
     "execution_count": 42,
     "metadata": {},
     "output_type": "execute_result"
    }
   ],
   "source": [
    "infected"
   ]
  },
  {
   "cell_type": "markdown",
   "metadata": {},
   "source": [
    "# 3. Generate the tree structures for each components\n",
    "Get all the connected components"
   ]
  },
  {
   "cell_type": "code",
   "execution_count": 43,
   "metadata": {},
   "outputs": [],
   "source": [
    "components = list(nx.connected_components(G))\n",
    "# print([len(c) for c in components])"
   ]
  },
  {
   "cell_type": "markdown",
   "metadata": {},
   "source": [
    "Randomly select roots for trees"
   ]
  },
  {
   "cell_type": "code",
   "execution_count": 44,
   "metadata": {},
   "outputs": [],
   "source": [
    "# Roots stores the randomly selected root for each components\n",
    "roots = []\n",
    "# biggest_component_size = max(len(c) for c in components)\n",
    "# problem_components = [c for c in components if len(c) != biggest_component_size]\n",
    "for component in components:\n",
    "    roots.append(random.choice(list(component)))"
   ]
  },
  {
   "cell_type": "code",
   "execution_count": 45,
   "metadata": {},
   "outputs": [
    {
     "data": {
      "text/plain": [
       "[0, 8]"
      ]
     },
     "execution_count": 45,
     "metadata": {},
     "output_type": "execute_result"
    }
   ],
   "source": [
    "roots"
   ]
  },
  {
   "cell_type": "markdown",
   "metadata": {},
   "source": [
    "Convert the components to a tree-like structure, with randomly selected roots\n",
    "\n",
    "# BFS"
   ]
  },
  {
   "cell_type": "code",
   "execution_count": 46,
   "metadata": {},
   "outputs": [],
   "source": [
    "# Trees stores all the tree-structured components\n",
    "Trees = []\n",
    "for root in roots:\n",
    "    T = nx.dfs_tree(G, source = root)\n",
    "    nx.set_node_attributes(T, mask_dict, 'mask')\n",
    "    nx.set_node_attributes(T, infected_dict, 'infected')\n",
    "    Trees.append(T)"
   ]
  },
  {
   "cell_type": "markdown",
   "metadata": {},
   "source": [
    "Look at the tree-like graphs"
   ]
  },
  {
   "cell_type": "code",
   "execution_count": 48,
   "metadata": {},
   "outputs": [
    {
     "data": {
      "image/png": "[encoded data removed]",
      "text/plain": [
       "<Figure size 432x288 with 1 Axes>"
      ]
     },
     "metadata": {},
     "output_type": "display_data"
    }
   ],
   "source": [
    "nx.draw(Trees[1], with_labels=True, font_weight='bold')"
   ]
  },
  {
   "cell_type": "markdown",
   "metadata": {},
   "source": [
    "# 3. Starting the infection process with 1 virus strain \n",
    "\n",
    "**Notice**\n",
    "Infection starts from root to the leaves\n",
    "\n",
    "| Infectious    |  Susceptible   | Transmissibillity     | Notation |\n",
    "| :------------- | :----------: | :----------- | :----------- |\n",
    "| 1             | 0              | T * T_mask^2 * m      | T_1 |\n",
    "| 1             | 1              | T * T_mask * (1 - m)  | T_2 |\n",
    "| 0             | 0              | T * (1 - m)           | T_3 |\n",
    "| 0             | 1              | T * T_mask * m        | T_4 |\n",
    "\n",
    "\n"
   ]
  },
  {
   "cell_type": "markdown",
   "metadata": {},
   "source": [
    "Parameters setup"
   ]
  },
  {
   "cell_type": "code",
   "execution_count": 49,
   "metadata": {},
   "outputs": [],
   "source": [
    "T_mask = 0.1\n",
    "T = 0.8\n",
    "# Round T to roundN digits\n",
    "roundN = 5"
   ]
  },
  {
   "cell_type": "code",
   "execution_count": 50,
   "metadata": {},
   "outputs": [
    {
     "name": "stdout",
     "output_type": "stream",
     "text": [
      "T1: 0.00480\n",
      "T2: 0.03200\n",
      "T3: 0.32000\n",
      "T4: 0.04800\n"
     ]
    }
   ],
   "source": [
    "T1 = round(T * T_mask * T_mask * m, roundN)\n",
    "T2 = round(T * T_mask * (1 - m), roundN)\n",
    "T3 = round(T * (1 - m), roundN)\n",
    "T4 = round(T * T_mask * m , roundN)\n",
    "\n",
    "trans_dict = {'T1': T1,\n",
    "              'T2': T2,\n",
    "              'T3': T3,\n",
    "              'T4': T4}\n",
    "\n",
    "print(\"T1: %.5f\" %T1)\n",
    "print(\"T2: %.5f\" %T2)\n",
    "print(\"T3: %.5f\" %T3)\n",
    "print(\"T4: %.5f\" %T4)"
   ]
  },
  {
   "cell_type": "markdown",
   "metadata": {},
   "source": [
    "## Traverse from the root nodes using dfs search\n",
    "\n",
    "Starting with 1 seed"
   ]
  },
  {
   "cell_type": "code",
   "execution_count": 51,
   "metadata": {
    "scrolled": false
   },
   "outputs": [
    {
     "name": "stdout",
     "output_type": "stream",
     "text": [
      "TREE No. 0\n",
      "LEVEL 1\n",
      "(0, 2), node 0 is_infected = 1\n",
      "node 2 is not infected\n",
      "TREE No. 1\n",
      "LEVEL 1\n",
      "(8, 4), node 8 is_infected = 1\n",
      "node 4 is not infected\n",
      "LEVEL 2\n",
      "(4, 5), node 4 is_infected = 0\n",
      "(4, 7), node 4 is_infected = 0\n",
      "(4, 9), node 4 is_infected = 0\n",
      "(4, 3), node 4 is_infected = 0\n",
      "LEVEL 3\n",
      "(5, 6), node 5 is_infected = 0\n",
      "(9, 1), node 9 is_infected = 0\n"
     ]
    }
   ],
   "source": [
    "\n",
    "for idx, tree in enumerate(Trees): \n",
    "    print(\"TREE No.\", idx)\n",
    "    \n",
    "    edge_attr = dict()\n",
    "    root = roots[idx]\n",
    "    dfs_edges = list(nx.dfs_edges(tree, source = root))\n",
    "    total_depth = nx.dag_longest_path_length(tree)\n",
    "    \n",
    "    nx.set_node_attributes(tree, infected_dict, 'infected')\n",
    "    nx.set_node_attributes(tree, {root: 1}, 'infected') # Let root node be infected by nature\n",
    "\n",
    "    \n",
    "    for depth in range(1, total_depth + 1): # Transmitted level by level\n",
    "        print('LEVEL %d' % depth)\n",
    "        \n",
    "        if depth == 1: # Get only this level's node pairs\n",
    "            dfs_edges = list(nx.dfs_edges(tree, source = root, depth_limit = depth))\n",
    "            \n",
    "        else: \n",
    "            \n",
    "            dfs_edges = set(nx.dfs_edges(tree, source = root, depth_limit = depth)) - \\\n",
    "                        set(nx.dfs_edges(tree, source = root, depth_limit = depth - 1))\n",
    "        \n",
    "        \n",
    "        for father, son in dfs_edges: # Check each node pairs in this level\n",
    "            print(\"(%d, %d), node %d is_infected = %d\" %(father, son, father, tree.nodes[father]['infected'] ))\n",
    "            \n",
    "            if tree.nodes[father]['infected'] == 1: \n",
    "                \n",
    "                # Decide which transmissibility\n",
    "                if tree.nodes[father]['mask'] == 1 and tree.nodes[son]['mask'] == 0:\n",
    "                    T_edge = 'T1'\n",
    "                elif tree.nodes[father]['mask'] == 1 and tree.nodes[son]['mask'] == 1:\n",
    "                    T_edge = 'T2'\n",
    "                elif tree.nodes[father]['mask'] == 0 and tree.nodes[son]['mask'] == 0:\n",
    "                    T_edge = 'T3'\n",
    "                else:\n",
    "                    T_edge = 'T4'\n",
    "\n",
    "                edge_attr[(father,son)] = {'T': T_edge}\n",
    "                \n",
    "                \n",
    "                # Set the 'Transmissibility'edge attrs\n",
    "                nx.set_edge_attributes(tree, edge_attr)\n",
    "            \n",
    "            \n",
    "                # Decide if the susceptible is infected\n",
    "                is_infected = int(random.random() < trans_dict[T_edge])\n",
    "                \n",
    "                if is_infected:\n",
    "                    print(\"node %d is infected with %s\" %(son, T_edge))\n",
    "                else:\n",
    "                    print(\"node %d is not infected\" %(son))\n",
    "                \n",
    "                \n",
    "                # Set the 'infected' node attr accordingly\n",
    "                nx.set_node_attributes(tree, {son: is_infected}, 'infected')\n",
    "\n",
    "\n",
    "    \n"
   ]
  },
  {
   "cell_type": "markdown",
   "metadata": {},
   "source": [
    "## Look at the infected result\n",
    "\n",
    "change i to look at different sub-trees"
   ]
  },
  {
   "cell_type": "code",
   "execution_count": 82,
   "metadata": {
    "scrolled": false
   },
   "outputs": [
    {
     "name": "stdout",
     "output_type": "stream",
     "text": [
      "root node: 6\n"
     ]
    },
    {
     "data": {
      "text/plain": [
       "{(6, 18): Text(95.8, 234.58499999999998, \"{'T': 'T4'}\"),\n",
       " (18, 1): Text(158.53, 196.99, \"{'T': 'T1'}\"),\n",
       " (18, 7): Text(111.42349999999999, 263.59000000000003, \"{'T': 'T2'}\"),\n",
       " (18, 9): Text(143.97, 268.67499999999995, \"{'T': 'T2'}\"),\n",
       " (18, 14): Text(178.27499999999998, 236.195, \"{'T': 'T1'}\"),\n",
       " (18, 19): Text(114.955, 191.445, \"{'T': 'T1'}\"),\n",
       " (14, 12): Text(258.99, 249.56, '{}'),\n",
       " (12, 5): Text(334.375, 256.47, '{}'),\n",
       " (19, 0): Text(75.9665, 119.55699999999999, '{}'),\n",
       " (0, 3): Text(42.451499999999996, 51.617, '{}')}"
      ]
     },
     "execution_count": 82,
     "metadata": {},
     "output_type": "execute_result"
    },
    {
     "data": {
      "image/png": "[encoded data removed]",
      "text/plain": [
       "<Figure size 432x288 with 1 Axes>"
      ]
     },
     "metadata": {},
     "output_type": "display_data"
    }
   ],
   "source": [
    "i = 0\n",
    "pos = nx.nx_agraph.graphviz_layout(Trees[i])\n",
    "\n",
    "nx.draw(Trees[i], pos, with_labels = False)\n",
    "\n",
    "# # Show nodes' attrs\n",
    "node_labels = nx.get_node_attributes(Trees[i],'infected')\n",
    "nx.draw_networkx_labels(Trees[i], pos, labels = node_labels)\n",
    "print(\"root node:\", roots[i])\n",
    "# Show edges' attrs\n",
    "edge_labels = nx.get_edge_attributes(Trees[i],'T')\n",
    "nx.draw_networkx_edge_labels(Trees[i], pos, labels = edge_labels)"
   ]
  },
  {
   "cell_type": "code",
   "execution_count": 83,
   "metadata": {},
   "outputs": [
    {
     "name": "stdout",
     "output_type": "stream",
     "text": [
      "[[ 6  1]\n",
      " [18  1]\n",
      " [ 1  0]\n",
      " [ 7  0]\n",
      " [ 9  0]\n",
      " [14  0]\n",
      " [12  0]\n",
      " [ 5  0]\n",
      " [19  0]\n",
      " [ 0  0]\n",
      " [ 3  0]]\n",
      "Tree 0 Epidemic Size: 0.182\n",
      "[[ 4  1]\n",
      " [ 8  0]\n",
      " [11  0]\n",
      " [ 2  0]\n",
      " [17  0]\n",
      " [13  0]]\n",
      "Tree 1 Epidemic Size: 0.167\n",
      "[[16  1]\n",
      " [10  0]\n",
      " [15  0]]\n",
      "Tree 2 Epidemic Size: 0.333\n",
      "Avg Epidemic Size: 0.2272727272727273\n"
     ]
    }
   ],
   "source": [
    "E_S = []\n",
    "for idx, tree  in enumerate(Trees):\n",
    "    res = np.array(list(tree.nodes.data('infected')))\n",
    "    print(res)\n",
    "    es = sum(res[:,1]) / res.shape[0]\n",
    "    E_S.append(es)\n",
    "    print(\"Tree %d Epidemic Size: %.3f\" %(idx, es))\n",
    "\n",
    "print('Avg Epidemic Size:', sum(E_S) / len(E_S))"
   ]
  },
  {
   "cell_type": "code",
   "execution_count": null,
   "metadata": {},
   "outputs": [],
   "source": []
  }
 ],
 "metadata": {
  "kernelspec": {
   "display_name": "Python3 (ytian)",
   "language": "python",
   "name": "ytian"
  },
  "language_info": {
   "codemirror_mode": {
    "name": "ipython",
    "version": 3
   },
   "file_extension": ".py",
   "mimetype": "text/x-python",
   "name": "python",
   "nbconvert_exporter": "python",
   "pygments_lexer": "ipython3",
   "version": "3.7.4"
  }
 },
 "nbformat": 4,
 "nbformat_minor": 2
}
