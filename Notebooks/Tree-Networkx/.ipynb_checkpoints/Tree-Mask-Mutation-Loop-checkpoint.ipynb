{
 "cells": [
  {
   "cell_type": "code",
   "execution_count": 16,
   "metadata": {},
   "outputs": [],
   "source": [
    "import os\n",
    "import time\n",
    "import json\n",
    "import random\n",
    "import numpy as np\n",
    "from os import path\n",
    "import networkx as nx\n",
    "from datetime import datetime\n",
    "import matplotlib.pyplot as plt\n",
    "from networkx.utils import powerlaw_sequence\n",
    "from networkx.algorithms.dag import dag_longest_path"
   ]
  },
  {
   "cell_type": "markdown",
   "metadata": {},
   "source": [
    "# Function 1.Generate graph by Configuration Model"
   ]
  },
  {
   "cell_type": "markdown",
   "metadata": {},
   "source": [
    "Generate a degree sequence with **nodeN** nodes, and **meanDegree**\n",
    "\n"
   ]
  },
  {
   "cell_type": "code",
   "execution_count": 1,
   "metadata": {},
   "outputs": [],
   "source": [
    "def generate_graph(nodeN, mean_degree):\n",
    "    # Generate degree sequence\n",
    "    sequence = np.random.poisson(mean_degree, nodeN)\n",
    "    while (np.sum(sequence) % 2 !=0):\n",
    "        sequence = np.random.poisson(mean_degree, nodeN)\n",
    "    # sequence = nx.random_powerlaw_tree_sequence(nodeN, tries=5000)\n",
    "\n",
    "    # Generate Graph according to the degree sequence\n",
    "    G = nx.configuration_model(sequence)\n",
    "\n",
    "    # Remove parallel edges\n",
    "    G = nx.Graph(G)\n",
    "\n",
    "    # Remove self-loops\n",
    "    G.remove_edges_from(nx.selfloop_edges(G))\n",
    "    return G    "
   ]
  },
  {
   "cell_type": "markdown",
   "metadata": {},
   "source": [
    "# Function 2. Decide nodes' mask wearing states\n",
    "\n",
    "## P(A person wears a mask) = m"
   ]
  },
  {
   "cell_type": "markdown",
   "metadata": {},
   "source": [
    "Generate the mask wearing states of each node."
   ]
  },
  {
   "cell_type": "code",
   "execution_count": 2,
   "metadata": {},
   "outputs": [],
   "source": [
    "def init_mask(G, mask_prob):\n",
    "    # A list of 1 and 0 indicating mask wearing or not\n",
    "    # 1 means wear mask, 0 means not wearing a mask\n",
    "    masks = np.random.binomial(1, mask_prob, nodeN)\n",
    "\n",
    "    # Node idx\n",
    "    nodes = np.linspace(0, nodeN - 1, nodeN, dtype = int)\n",
    "    # Dict of node attributes\n",
    "    mask_dict = dict(zip(nodes, masks))\n",
    "\n",
    "    # Set nodes attributes\n",
    "    nx.set_node_attributes(G, mask_dict, 'mask')    \n",
    "    return G, mask_dict"
   ]
  },
  {
   "cell_type": "markdown",
   "metadata": {},
   "source": [
    "# Function 3. Init nodes infection states to all 0 (not infected)"
   ]
  },
  {
   "cell_type": "code",
   "execution_count": 3,
   "metadata": {},
   "outputs": [],
   "source": [
    "def init_infected(G):\n",
    "    # Init all nodes to be healthy\n",
    "    infected = np.zeros(nodeN, dtype = int)\n",
    "\n",
    "    # Node idx\n",
    "    nodes = np.linspace(0, nodeN - 1, nodeN, dtype = int)\n",
    "\n",
    "    # Dict of node attributes\n",
    "    infected_dict = dict(zip(nodes, infected))\n",
    "\n",
    "    # Set nodes attributes\n",
    "    nx.set_node_attributes(G, infected_dict, 'infected')\n",
    "    \n",
    "    return G, infected_dict   "
   ]
  },
  {
   "cell_type": "markdown",
   "metadata": {},
   "source": [
    "# Function 4. Generate the BFS tree structures for each components"
   ]
  },
  {
   "cell_type": "code",
   "execution_count": 4,
   "metadata": {},
   "outputs": [],
   "source": [
    "def generate_BFS_tree(G, mask_dict, infected_dict):\n",
    "    # Get all the connected components\n",
    "    components = list(nx.connected_components(G))\n",
    "\n",
    "    # Roots stores the randomly selected root for each components\n",
    "    roots = []\n",
    "    for component in components:\n",
    "        if len(component) < 100: # ingnore the small components\n",
    "            continue\n",
    "        roots.append(random.choice(list(component)))\n",
    "        \n",
    "    # Convert the components to a BFS tree-like structure, with randomly selected roots\n",
    "    # Trees stores all the tree-structured components\n",
    "    Trees = []\n",
    "    for root in roots:\n",
    "        T = nx.bfs_tree(G, source = root)\n",
    "        nx.set_node_attributes(T, mask_dict, 'mask')\n",
    "        nx.set_node_attributes(T, infected_dict, 'infected')\n",
    "        Trees.append(T)\n",
    "    \n",
    "    return roots, Trees"
   ]
  },
  {
   "cell_type": "markdown",
   "metadata": {},
   "source": [
    "# Function 5. Starting the infection process with 1 virus strain \n",
    "\n",
    "\n",
    "## Function 5.1 Mask wearing \n",
    "**Notice**\n",
    "Infection starts from root to the leaves\n",
    "\n",
    "| Infectious    |  Susceptible   | Transmissibillity     | Notation |\n",
    "| :------------- | :----------: | :----------- | :----------- |\n",
    "| 1             | 0              | T * T_mask^2 * m      | T_1 |\n",
    "| 1             | 1              | T * T_mask * (1 - m)  | T_2 |\n",
    "| 0             | 0              | T * (1 - m)           | T_3 |\n",
    "| 0             | 1              | T * T_mask * m        | T_4 |"
   ]
  },
  {
   "cell_type": "code",
   "execution_count": 5,
   "metadata": {},
   "outputs": [],
   "source": [
    "def generate_new_transmissibilities_mask(T_mask, T, m):\n",
    "    roundN = 5 # Round T to roundN digits\n",
    "    T1 = round(T * T_mask * T_mask * m, roundN)\n",
    "    T2 = round(T * T_mask * (1 - m), roundN)\n",
    "    T3 = round(T * (1 - m), roundN)\n",
    "    T4 = round(T * T_mask * m , roundN)\n",
    "\n",
    "    trans_dict = {'T1': T1,\n",
    "                  'T2': T2,\n",
    "                  'T3': T3,\n",
    "                  'T4': T4}\n",
    "\n",
    "#     print(\"T1: %.5f\" %T1)\n",
    "#     print(\"T2: %.5f\" %T2)\n",
    "#     print(\"T3: %.5f\" %T3)\n",
    "#     print(\"T4: %.5f\" %T4)\n",
    "    \n",
    "    return trans_dict    "
   ]
  },
  {
   "cell_type": "markdown",
   "metadata": {},
   "source": [
    "## Function 5.2 Mutation"
   ]
  },
  {
   "cell_type": "code",
   "execution_count": 6,
   "metadata": {},
   "outputs": [],
   "source": [
    "def generate_new_transmissibilities_mutation(T_mask, T, m):\n",
    "    roundN = 5 # Round T to roundN digits\n",
    "    T1 = round(T * T_mask * T_mask * m, roundN)\n",
    "    T2 = round(T * T_mask * (1 - m), roundN)\n",
    "    T3 = round(T * (1 - m), roundN)\n",
    "    T4 = round(T * T_mask * m , roundN)\n",
    "\n",
    "    Q1 = T1 * (1 - m) + T2 * m\n",
    "    Q2 = T3 * (1 - m) + T4 * m\n",
    "\n",
    "    mu11 = T2 * m / Q1\n",
    "    mu12 = T1 * (1 - m) / Q1\n",
    "    mu22 = T3 * (1 - m) / Q2\n",
    "    mu21 = T4 * m / Q2\n",
    "\n",
    "    trans_dict = {'Q1': Q1,\n",
    "                  'Q2': Q2}\n",
    "    \n",
    "    mu_dict = {'mu11': mu11,\n",
    "               'mu12': mu12,\n",
    "               'mu22': mu22,\n",
    "               'mu21': mu21, }\n",
    "\n",
    "    print(\"Q1: %.5f\" %Q1)\n",
    "    print(\"Q2: %.5f\" %Q2)\n",
    "\n",
    "#     print(\"mu11: %.5f\" %mu11)\n",
    "#     print(\"mu12: %.5f\" %mu12)\n",
    "#     print(\"mu22: %.5f\" %mu22)\n",
    "#     print(\"mu21: %.5f\" %mu21)\n",
    "    return trans_dict, mu_dict"
   ]
  },
  {
   "cell_type": "markdown",
   "metadata": {},
   "source": [
    "# Function 6: Traverse from the root nodes using bfs search"
   ]
  },
  {
   "cell_type": "markdown",
   "metadata": {},
   "source": [
    "## Function 6.1 infection with mask"
   ]
  },
  {
   "cell_type": "code",
   "execution_count": 7,
   "metadata": {},
   "outputs": [],
   "source": [
    "def start_infection_mask(Trees, roots, trans_dict, infected_dict):\n",
    "    for idx, tree in enumerate(Trees): \n",
    "#         print(\"TREE No.\", idx)\n",
    "\n",
    "        edge_attr = dict()\n",
    "        root = roots[idx]\n",
    "        dfs_edges = list(nx.bfs_edges(tree, source = root))\n",
    "        total_depth = nx.dag_longest_path_length(tree)\n",
    "\n",
    "        nx.set_node_attributes(tree, infected_dict, 'infected')\n",
    "        nx.set_node_attributes(tree, {root: 1}, 'infected') # Let root node be infected by nature\n",
    "\n",
    "\n",
    "        for depth in range(1, total_depth + 1): # Transmitted level by level\n",
    "#             print('LEVEL %d' % depth)\n",
    "\n",
    "            if depth == 1: # Get only this level's node pairs\n",
    "                dfs_edges = list(nx.dfs_edges(tree, source = root, depth_limit = depth))\n",
    "\n",
    "            else: \n",
    "\n",
    "                dfs_edges = set(nx.dfs_edges(tree, source = root, depth_limit = depth)) - \\\n",
    "                            set(nx.dfs_edges(tree, source = root, depth_limit = depth - 1))\n",
    "\n",
    "\n",
    "            for father, son in dfs_edges: # Check each node pairs in this level\n",
    "#                 print(\"(%d, %d), node %d is_infected = %d\" %(father, son, father, tree.nodes[father]['infected'] ))\n",
    "\n",
    "                if tree.nodes[father]['infected'] == 1: \n",
    "\n",
    "                    # Decide which transmissibility\n",
    "                    if tree.nodes[father]['mask'] == 1 and tree.nodes[son]['mask'] == 0:\n",
    "                        T_edge = 'T1'\n",
    "                    elif tree.nodes[father]['mask'] == 1 and tree.nodes[son]['mask'] == 1:\n",
    "                        T_edge = 'T2'\n",
    "                    elif tree.nodes[father]['mask'] == 0 and tree.nodes[son]['mask'] == 0:\n",
    "                        T_edge = 'T3'\n",
    "                    else:\n",
    "                        T_edge = 'T4'\n",
    "\n",
    "                    edge_attr[(father,son)] = {'T': T_edge}\n",
    "\n",
    "\n",
    "                    # Set the 'Transmissibility'edge attrs\n",
    "                    nx.set_edge_attributes(tree, edge_attr)\n",
    "\n",
    "\n",
    "                    # Decide if the susceptible is infected\n",
    "                    is_infected = int(random.random() < trans_dict[T_edge])\n",
    "\n",
    "#                     if is_infected:\n",
    "#                         print(\"node %d is infected with %s\" %(son, T_edge))\n",
    "#                     else:\n",
    "#                         print(\"node %d is not infected\" %(son))\n",
    "\n",
    "\n",
    "                    # Set the 'infected' node attr accordingly\n",
    "                    nx.set_node_attributes(tree, {son: is_infected}, 'infected')    "
   ]
  },
  {
   "cell_type": "markdown",
   "metadata": {},
   "source": [
    "## Function 6.2 infection with mutation"
   ]
  },
  {
   "cell_type": "code",
   "execution_count": 8,
   "metadata": {},
   "outputs": [],
   "source": [
    "def start_infection_mutation(Trees, roots, trans_dict, infected_dict, mu_dict):\n",
    "\n",
    "    for idx, tree in enumerate(Trees): \n",
    "#         print(\"TREE No.\", idx)\n",
    "\n",
    "        edge_attr = dict()\n",
    "        root = roots[idx]\n",
    "        dfs_edges = list(nx.bfs_edges(tree, source = root))\n",
    "        total_depth = nx.dag_longest_path_length(tree)\n",
    "\n",
    "        nx.set_node_attributes(tree, infected_dict, 'infected')\n",
    "        nx.set_node_attributes(tree, {root: 1}, 'infected') # Let root node be infected by nature\n",
    "\n",
    "\n",
    "        for depth in range(1, total_depth + 1): # Transmitted level by level\n",
    "#             print('LEVEL %d' % depth)\n",
    "\n",
    "            if depth == 1: # Get only this level's node pairs\n",
    "                dfs_edges = list(nx.dfs_edges(tree, source = root, depth_limit = depth))\n",
    "\n",
    "            else: \n",
    "\n",
    "                dfs_edges = set(nx.dfs_edges(tree, source = root, depth_limit = depth)) - \\\n",
    "                            set(nx.dfs_edges(tree, source = root, depth_limit = depth - 1))\n",
    "\n",
    "\n",
    "            for father, son in dfs_edges: # Check each node pairs in this level\n",
    "#                 print(\"(%d, %d), node %d is_infected = %d\" %(father, son, father, tree.nodes[father]['infected'] ))\n",
    "\n",
    "                if tree.nodes[father]['infected'] == 1: \n",
    "\n",
    "\n",
    "\n",
    "                    # Decide which transmissibility\n",
    "                    if tree.nodes[father]['mask'] == 1:\n",
    "                        T_edge = 'Q1'\n",
    "                    else:\n",
    "                        T_edge = 'Q2'\n",
    "                    # Set the 'Transmissibility'edge attrs\n",
    "                    edge_attr[(father,son)] = {'T': T_edge}\n",
    "                    nx.set_edge_attributes(tree, edge_attr)\n",
    "\n",
    "\n",
    "\n",
    "                    # Decide if the susceptible is infected\n",
    "                    is_infected = int(random.random() < trans_dict[T_edge])\n",
    "                    # Set the 'infected' node attr accordingly\n",
    "                    nx.set_node_attributes(tree, {son: is_infected}, 'infected')\n",
    "\n",
    "#                     if is_infected:\n",
    "#                         print(\"node %d is infected with %s\" %(son, T_edge))\n",
    "\n",
    "\n",
    "\n",
    "                    # Decide if the susceptible mutates\n",
    "                    if tree.nodes[son]['mask'] == 1: # mu11 or mu12\n",
    "\n",
    "                        # Decide if the susceptible is mutated\n",
    "                        is_mutated = int(random.random() > mu_dict['mu11'])\n",
    "                        # Set the 'mask' node attr accordingly\n",
    "                        if is_mutated: # mask: 1 -> 0\n",
    "                            nx.set_node_attributes(tree, {son: 0}, 'mask')\n",
    "#                             print(\"node %d is mutated to not wearking mask!\" %(son))\n",
    "\n",
    "                    else:\n",
    "\n",
    "                        # Decide if the susceptible is mutated\n",
    "                        is_mutated = int(random.random() > mu_dict['mu22'])\n",
    "                        # Set the 'mask' node attr accordingly\n",
    "                        if is_mutated: # mask: 0 -> 1\n",
    "                            nx.set_node_attributes(tree, {son: 1}, 'mask')\n",
    "#                             print(\"node %d is mutated to wearking mask!\" %(son))\n",
    "                        "
   ]
  },
  {
   "cell_type": "markdown",
   "metadata": {},
   "source": [
    "## Look at the infected result\n",
    "\n",
    "change i to look at different sub-trees"
   ]
  },
  {
   "cell_type": "code",
   "execution_count": 9,
   "metadata": {
    "scrolled": false
   },
   "outputs": [],
   "source": [
    "# i = 0\n",
    "# pos = nx.nx_agraph.graphviz_layout(Trees[i])\n",
    "\n",
    "# nx.draw(Trees[i], pos, with_labels = False)\n",
    "\n",
    "# # # Show nodes' attrs\n",
    "# node_labels = nx.get_node_attributes(Trees[i],'infected')\n",
    "# nx.draw_networkx_labels(Trees[i], pos, labels = node_labels)\n",
    "# print(\"root node:\", roots[i])\n",
    "# # Show edges' attrs\n",
    "# edge_labels = nx.get_edge_attributes(Trees[i],'T')\n",
    "# nx.draw_networkx_edge_labels(Trees[i], pos, labels = edge_labels)"
   ]
  },
  {
   "cell_type": "markdown",
   "metadata": {},
   "source": [
    "# Function 7: Calculate the Epidemic size for a G"
   ]
  },
  {
   "cell_type": "code",
   "execution_count": 10,
   "metadata": {},
   "outputs": [],
   "source": [
    "def cal_EpdSize_Trees(Trees):\n",
    "    E_S = []\n",
    "    for idx, tree  in enumerate(Trees):\n",
    "        res = np.array(list(tree.nodes.data('infected')))\n",
    "#         print(res)\n",
    "        es = sum(res[:,1]) / res.shape[0]\n",
    "        E_S.append(es)\n",
    "#         print(\"Tree %d Epidemic Size: %.3f\" %(idx, es))\n",
    "    avg_ES = div(sum(E_S), len(E_S))\n",
    "#     print('Avg Epidemic Size:', avg_ES)\n",
    "    return avg_ES    "
   ]
  },
  {
   "cell_type": "code",
   "execution_count": 11,
   "metadata": {},
   "outputs": [],
   "source": [
    "# threshold = 0.05 # threshold to check if a process becomes a epidemic\n",
    "# mean_degree = 2\n",
    "# nodeN = 20\n",
    "# mask_prob = 0.6\n",
    "# T_mask = 0.1\n",
    "# T = 0.8"
   ]
  },
  {
   "cell_type": "markdown",
   "metadata": {},
   "source": [
    "# Experiments Auxiliary Functions"
   ]
  },
  {
   "cell_type": "code",
   "execution_count": 12,
   "metadata": {},
   "outputs": [],
   "source": [
    "def runExp(i, mean_degree, nodeN, trans_dict_mask, trans_dict_mu, mu_dict):\n",
    "    '''\n",
    "    Arg: \n",
    "    mean_degree: Random graph's mean degree\n",
    "    nodeN:       Node number\n",
    "    mask_prob:   P(a person wearing a mask)\n",
    "    T_mask:      The impact of wearing a mask\n",
    "    T:           The transmissibility of a real strain\n",
    "    \n",
    "    '''\n",
    "\n",
    "    G = generate_graph(nodeN, mean_degree)\n",
    "    G, mask_dict = init_mask(G, mask_prob)\n",
    "    G, infected_dict = init_infected(G)\n",
    "    roots, Trees = generate_BFS_tree(G, mask_dict, infected_dict)\n",
    "    Trees2 = Trees.copy()\n",
    "    \n",
    "    # Transmission with mask\n",
    "    start_infection_mask(Trees, roots, trans_dict_mask, infected_dict)\n",
    "    mask_size = cal_EpdSize_Trees(Trees)       \n",
    "    \n",
    "    # Transmission with mutation\n",
    "    start_infection_mutation(Trees2, roots, trans_dict_mu, infected_dict, mu_dict)\n",
    "    mutation_size = cal_EpdSize_Trees(Trees2) \n",
    "    \n",
    "    return mask_size, mutation_size\n",
    "    \n",
    "    "
   ]
  },
  {
   "cell_type": "code",
   "execution_count": 13,
   "metadata": {},
   "outputs": [],
   "source": [
    "def div(x, y):\n",
    "    if y == 0:\n",
    "        return 0\n",
    "    else:\n",
    "        return x*1.0/y"
   ]
  },
  {
   "cell_type": "code",
   "execution_count": 14,
   "metadata": {},
   "outputs": [],
   "source": [
    "def draw_figures(mean_degree_list, Prob_Emergence, AvgValidSize, AvgSize, ExpPath):\n",
    "    figure_path = ExpPath + '/' + 'Figures'\n",
    "    if not os.path.exists(figure_path):\n",
    "        print(\"make path \", figure_path)\n",
    "        os.mkdir(figure_path)\n",
    "    \n",
    "    ### Probability of Emergence ###\n",
    "    plt.figure()\n",
    "    plt.plot(mean_degree_list, Prob_Emergence['mask'], 'bo')\n",
    "    plt.xlabel(\"Mean Degree\")\n",
    "    plt.ylabel(\"Prob of Emergence\")\n",
    "    title = \"Probability of Emergence for Mask Model\"\n",
    "    plt.title(title)\n",
    "    plt.savefig(figure_path + '/' + title.replace(\" \", \"_\") + '.png')\n",
    "    \n",
    "    plt.figure()\n",
    "    plt.plot(mean_degree_list, Prob_Emergence['mutation'], 'ro')\n",
    "    plt.xlabel(\"Mean Degree\")\n",
    "    plt.ylabel(\"Prob of Emergence\")\n",
    "    title = \"Probability of Emergence for Mutation Model\"\n",
    "    plt.title(title)\n",
    "    plt.savefig(figure_path + '/' + title.replace(\" \", \"_\") + '.png')\n",
    "    \n",
    "    ### Epidemic Size ###\n",
    "    plt.figure()\n",
    "    plt.plot(mean_degree_list, AvgValidSize['mask'], 'bo')\n",
    "    plt.xlabel(\"Mean Degree\")\n",
    "    plt.ylabel(\"Epidemic Size\")\n",
    "    title = \"Epidemic Size for Mask Model\"\n",
    "    plt.title(title)\n",
    "    plt.savefig(figure_path + '/' + title.replace(\" \", \"_\") + '.png')\n",
    "    \n",
    "    plt.figure()\n",
    "    plt.plot(mean_degree_list, AvgValidSize['mutation'], 'ro')\n",
    "    plt.xlabel(\"Mean Degree\")\n",
    "    plt.ylabel(\"Epidemic Size\")\n",
    "    title = \"Epidemic Size for Mutation Model\"\n",
    "    plt.title(title)\n",
    "    plt.savefig(figure_path + '/' + title.replace(\" \", \"_\") + '.png')\n",
    "    \n",
    "    ### Infected Frac ###\n",
    "    plt.figure()\n",
    "    plt.plot(mean_degree_list, AvgSize['mask'], 'bo')\n",
    "    plt.xlabel(\"Mean Degree\")\n",
    "    plt.ylabel(\"Infected Frac\")\n",
    "    title = \"Infected Frac for Mask Model\"\n",
    "    plt.title(title)\n",
    "    plt.savefig(figure_path + '/' + title.replace(\" \", \"_\") + '.png')\n",
    "    \n",
    "    plt.figure()\n",
    "    plt.plot(mean_degree_list, AvgSize['mutation'], 'ro')\n",
    "    plt.xlabel(\"Mean Degree\")\n",
    "    plt.ylabel(\"Infected Frac\")\n",
    "    title = \"Infected Frac for Mutation Model\"\n",
    "    plt.title(title)\n",
    "    plt.savefig(figure_path + '/' + title.replace(\" \", \"_\") + '.png')\n",
    "    "
   ]
  },
  {
   "cell_type": "markdown",
   "metadata": {},
   "source": [
    "# Exp 1: Check mean degree imapct"
   ]
  },
  {
   "cell_type": "markdown",
   "metadata": {},
   "source": [
    "## Parameters setting"
   ]
  },
  {
   "cell_type": "code",
   "execution_count": 17,
   "metadata": {},
   "outputs": [],
   "source": [
    "ExpN = 10\n",
    "nodeN = 10\n",
    "mask_prob = 0.6\n",
    "T_mask = 0.1\n",
    "T = 0.8\n",
    "threshold = 0.005\n",
    "mean_degree_list = np.linspace(0, 10, 50)"
   ]
  },
  {
   "cell_type": "markdown",
   "metadata": {},
   "source": [
    "## Start Experiment"
   ]
  },
  {
   "cell_type": "code",
   "execution_count": 19,
   "metadata": {
    "scrolled": true
   },
   "outputs": [
    {
     "name": "stdout",
     "output_type": "stream",
     "text": [
      "make path  ../../TreeResults/071315:44_n10_e10\n",
      "Q1: 0.02112\n",
      "Q2: 0.15680\n",
      "MeanDegree: 0.0\n",
      "MeanDegree: 0.20408163265306123\n",
      "MeanDegree: 0.40816326530612246\n",
      "MeanDegree: 0.6122448979591837\n",
      "MeanDegree: 0.8163265306122449\n",
      "MeanDegree: 1.0204081632653061\n",
      "MeanDegree: 1.2244897959183674\n",
      "MeanDegree: 1.4285714285714286\n",
      "MeanDegree: 1.6326530612244898\n",
      "MeanDegree: 1.836734693877551\n",
      "MeanDegree: 2.0408163265306123\n",
      "MeanDegree: 2.2448979591836737\n",
      "MeanDegree: 2.4489795918367347\n",
      "MeanDegree: 2.6530612244897958\n",
      "MeanDegree: 2.857142857142857\n",
      "MeanDegree: 3.0612244897959187\n",
      "MeanDegree: 3.2653061224489797\n",
      "MeanDegree: 3.4693877551020407\n",
      "MeanDegree: 3.673469387755102\n",
      "MeanDegree: 3.8775510204081636\n",
      "MeanDegree: 4.081632653061225\n",
      "MeanDegree: 4.285714285714286\n",
      "MeanDegree: 4.4897959183673475\n",
      "MeanDegree: 4.6938775510204085\n",
      "MeanDegree: 4.8979591836734695\n",
      "MeanDegree: 5.1020408163265305\n",
      "MeanDegree: 5.3061224489795915\n",
      "MeanDegree: 5.510204081632653\n",
      "MeanDegree: 5.714285714285714\n",
      "MeanDegree: 5.918367346938775\n",
      "MeanDegree: 6.122448979591837\n",
      "MeanDegree: 6.326530612244898\n",
      "MeanDegree: 6.530612244897959\n",
      "MeanDegree: 6.73469387755102\n",
      "MeanDegree: 6.938775510204081\n",
      "MeanDegree: 7.142857142857143\n",
      "MeanDegree: 7.346938775510204\n",
      "MeanDegree: 7.551020408163265\n",
      "MeanDegree: 7.755102040816327\n",
      "MeanDegree: 7.959183673469388\n",
      "MeanDegree: 8.16326530612245\n",
      "MeanDegree: 8.36734693877551\n",
      "MeanDegree: 8.571428571428571\n",
      "MeanDegree: 8.775510204081632\n",
      "MeanDegree: 8.979591836734695\n",
      "MeanDegree: 9.183673469387756\n",
      "MeanDegree: 9.387755102040817\n",
      "MeanDegree: 9.591836734693878\n",
      "MeanDegree: 9.795918367346939\n",
      "MeanDegree: 10.0\n",
      "make path  ../../TreeResults/071315:44_n10_e10/Figures\n"
     ]
    },
    {
     "name": "stderr",
     "output_type": "stream",
     "text": [
      "/home/ytian/.conda/envs/ytian/lib/python3.7/site-packages/numpy/core/_methods.py:217: RuntimeWarning: Degrees of freedom <= 0 for slice\n",
      "  keepdims=keepdims)\n",
      "/home/ytian/.conda/envs/ytian/lib/python3.7/site-packages/numpy/core/_methods.py:186: RuntimeWarning: invalid value encountered in true_divide\n",
      "  arrmean, rcount, out=arrmean, casting='unsafe', subok=False)\n",
      "/home/ytian/.conda/envs/ytian/lib/python3.7/site-packages/numpy/core/_methods.py:209: RuntimeWarning: invalid value encountered in double_scalars\n",
      "  ret = ret.dtype.type(ret / rcount)\n"
     ]
    },
    {
     "data": {
      "image/png": "[encoded data removed]",
      "text/plain": [
       "<Figure size 432x288 with 1 Axes>"
      ]
     },
     "metadata": {
      "needs_background": "light"
     },
     "output_type": "display_data"
    },
    {
     "data": {
      "image/png": "[encoded data removed]",
      "text/plain": [
       "<Figure size 432x288 with 1 Axes>"
      ]
     },
     "metadata": {
      "needs_background": "light"
     },
     "output_type": "display_data"
    },
    {
     "data": {
      "image/png": "[encoded data removed]",
      "text/plain": [
       "<Figure size 432x288 with 1 Axes>"
      ]
     },
     "metadata": {
      "needs_background": "light"
     },
     "output_type": "display_data"
    },
    {
     "data": {
      "image/png": "[encoded data removed]",
      "text/plain": [
       "<Figure size 432x288 with 1 Axes>"
      ]
     },
     "metadata": {
      "needs_background": "light"
     },
     "output_type": "display_data"
    },
    {
     "data": {
      "image/png": "[encoded data removed]",
      "text/plain": [
       "<Figure size 432x288 with 1 Axes>"
      ]
     },
     "metadata": {
      "needs_background": "light"
     },
     "output_type": "display_data"
    },
    {
     "data": {
      "image/png": "[encoded data removed]",
      "text/plain": [
       "<Figure size 432x288 with 1 Axes>"
      ]
     },
     "metadata": {
      "needs_background": "light"
     },
     "output_type": "display_data"
    }
   ],
   "source": [
    "########### Experiment Time & Path Setup ###########\n",
    "now = datetime.now() # current date and time\n",
    "timeExp = now.strftime(\"%m%d%H:%M\")\n",
    "ExpPath = '../../TreeResults/' + timeExp + '_n' + str(nodeN) + '_e' + str(ExpN)\n",
    "\n",
    "if not os.path.exists(ExpPath):\n",
    "    print(\"make path \", ExpPath)\n",
    "    os.mkdir(ExpPath)\n",
    "\n",
    "\n",
    "######### Experiment Variables Declararion #########\n",
    "Prob_Emergence = dict()\n",
    "Prob_Emergence['mask'] = []\n",
    "Prob_Emergence['mutation'] = []\n",
    "\n",
    "AvgValidSize = dict()\n",
    "AvgValidSize['mask'] = []\n",
    "AvgValidSize['mutation'] = []\n",
    "\n",
    "AvgSize = dict()\n",
    "AvgSize['mask'] = []\n",
    "AvgSize['mutation'] = []\n",
    "\n",
    "StdValidSize = dict()\n",
    "StdValidSize['mask'] = []\n",
    "StdValidSize['mutation'] = []\n",
    "\n",
    "################# Run Experiments #################\n",
    "\n",
    "# Caculate the transmissibilities for Mask Model, i.e. T1 to T4\n",
    "trans_dict_mask = generate_new_transmissibilities_mask(T_mask, T, mask_prob) \n",
    "# Caulculate the transmissibilities and mutation probs for Mutation Model\n",
    "trans_dict_mu, mu_dict = generate_new_transmissibilities_mutation(T_mask, T, mask_prob) \n",
    "\n",
    "\n",
    "for mean_degree in mean_degree_list:\n",
    "    print(\"MeanDegree:\", mean_degree)\n",
    "    a = time.time()\n",
    "    \n",
    "    # The epidemic size list for each mean degree value\n",
    "    Epidemics = dict()\n",
    "    Epidemics['mask'] = []\n",
    "    Epidemics['mutation'] = []\n",
    "    # The count of successful epidemics\n",
    "    numEpidemics = dict()\n",
    "    numEpidemics['mask'] = 0\n",
    "    numEpidemics['mutation'] = 0\n",
    "    # Total Epidemics Size\n",
    "    ttlEpidemicsSize = dict()\n",
    "    ttlEpidemicsSize['mask'] = 0\n",
    "    ttlEpidemicsSize['mutation'] = 0\n",
    "    # Total frac of infected people, not only epidemics\n",
    "    ttlFrac = dict()\n",
    "    ttlFrac['mask'] = 0\n",
    "    ttlFrac['mutation'] = 0\n",
    "    \n",
    "    for i in range(ExpN): # Each degree run ExpN times\n",
    "\n",
    "        \n",
    "        mask_size, mutation_size = runExp(i, mean_degree, nodeN, trans_dict_mask, trans_dict_mu, mu_dict)\n",
    "        \n",
    "        # Count Results\n",
    "        if mask_size > threshold:\n",
    "            Epidemics['mask'].append(mask_size)\n",
    "            numEpidemics['mask'] += 1\n",
    "            ttlEpidemicsSize['mask'] += mask_size\n",
    "            \n",
    "            # Write results to files\n",
    "            resultsFrac_mask = 'meanDeg: {0} ExpNo: {1} Size: {2}\\n'.format(\n",
    "            mean_degree, i, mask_size)\n",
    "\n",
    "            \n",
    "        if mutation_size > threshold:\n",
    "            Epidemics['mutation'].append(mutation_size)\n",
    "            numEpidemics['mutation'] += 1\n",
    "            ttlEpidemicsSize['mutation'] += mutation_size\n",
    "            \n",
    "            # Write results to files\n",
    "            resultsFrac_mutation = 'meanDeg: {0} ExpNo: {1} Size: {2}\\n'.format(\n",
    "            mean_degree, i, mutation_size)\n",
    "\n",
    "        \n",
    "        ttlFrac['mask'] += mask_size\n",
    "        ttlFrac['mutation'] += mutation_size\n",
    "        \n",
    "        \n",
    "    ######### Record the results for this Mean Degree ##########    \n",
    "    timedeltta = time.time()-a\n",
    "       \n",
    "    Prob_Emergence['mask'].append(numEpidemics['mask']*1.0/(ExpN))\n",
    "    AvgValidSize['mask'].append(div(ttlEpidemicsSize['mask']*1.0, numEpidemics['mask']))\n",
    "    AvgSize['mask'].append(ttlFrac['mask']*1.0/ExpN)\n",
    "    StdValidSize['mask'].append(np.std(Epidemics['mask']))\n",
    "    \n",
    "    Prob_Emergence['mutation'].append(numEpidemics['mutation']*1.0/(ExpN))\n",
    "    AvgValidSize['mutation'].append(div(ttlEpidemicsSize['mutation']*1.0, numEpidemics['mutation']))\n",
    "    AvgSize['mutation'].append(ttlFrac['mutation']*1.0/ExpN)\n",
    "    StdValidSize['mutation'].append(np.std(Epidemics['mutation']))\n",
    "    \n",
    "\n",
    "######### Save the results for all Mean Degrees ########## \n",
    "\n",
    "draw_figures(mean_degree_list, Prob_Emergence, AvgValidSize, AvgSize, ExpPath)\n",
    "\n",
    "setting_path = ExpPath + '/' + 'Settings'\n",
    "if not os.path.exists(setting_path):\n",
    "    os.mkdir(setting_path)\n",
    "    \n",
    "res_paths = ExpPath + '/' + 'Results'\n",
    "if not os.path.exists(res_paths):\n",
    "    os.mkdir(res_paths)\n",
    "\n",
    "### Experiment Parameters ###\n",
    "paras = dict()\n",
    "paras['ExpN'] = ExpN\n",
    "paras['nodeN'] = nodeN\n",
    "paras['mask_prob'] = mask_prob\n",
    "paras['T_mask'] = T_mask\n",
    "paras['T'] = T\n",
    "paras['threshold'] = threshold\n",
    "with open(setting_path + '/paras.json', 'w') as fp:\n",
    "    json.dump(paras, fp)\n",
    "    \n",
    "### Degree list ###\n",
    "np.save(setting_path + '/mean_degree_list.npy', np.array(mean_degree_list)) \n",
    "\n",
    "### Transmissibilites for Mask Model ###\n",
    "with open(setting_path + '/trans_dict_mask.json', 'w') as fp:\n",
    "    json.dump(trans_dict_mask, fp)\n",
    "    \n",
    "### Transmissibilites and mutation probs for Mutation Model ###\n",
    "with open(setting_path + '/trans_dict_mu.json', 'w') as fp:\n",
    "    json.dump(trans_dict_mu, fp)\n",
    "    \n",
    "with open(setting_path + '/mu_dict.json', 'w') as fp:\n",
    "    json.dump(mu_dict, fp)\n",
    "\n",
    "### Results ###\n",
    "with open(res_paths + '/Prob_Emergence.json', 'w') as fp:\n",
    "    json.dump(Prob_Emergence, fp)\n",
    "\n",
    "with open(res_paths + '/AvgValidSize.json', 'w') as fp:\n",
    "    json.dump(AvgValidSize, fp)\n",
    "\n",
    "with open(res_paths + '/StdValidSize.json', 'w') as fp:\n",
    "    json.dump(StdValidSize, fp)\n",
    "    \n",
    "with open(res_paths + '/AvgSize.json', 'w') as fp:\n",
    "    json.dump(AvgSize, fp)\n",
    "    \n",
    "\n"
   ]
  },
  {
   "cell_type": "code",
   "execution_count": 42,
   "metadata": {},
   "outputs": [
    {
     "data": {
      "text/plain": [
       "'Results/062912:41/Results'"
      ]
     },
     "execution_count": 42,
     "metadata": {},
     "output_type": "execute_result"
    }
   ],
   "source": [
    "res_paths"
   ]
  },
  {
   "cell_type": "code",
   "execution_count": null,
   "metadata": {},
   "outputs": [],
   "source": []
  }
 ],
 "metadata": {
  "kernelspec": {
   "display_name": "Python3 (ytian)",
   "language": "python",
   "name": "ytian"
  },
  "language_info": {
   "codemirror_mode": {
    "name": "ipython",
    "version": 3
   },
   "file_extension": ".py",
   "mimetype": "text/x-python",
   "name": "python",
   "nbconvert_exporter": "python",
   "pygments_lexer": "ipython3",
   "version": "3.7.4"
  }
 },
 "nbformat": 4,
 "nbformat_minor": 2
}
