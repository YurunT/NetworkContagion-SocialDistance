{
 "cells": [
  {
   "cell_type": "code",
   "execution_count": 2,
   "metadata": {},
   "outputs": [
    {
     "name": "stderr",
     "output_type": "stream",
     "text": [
      "/home/ytian/.conda/envs/ytian/lib/python3.7/site-packages/ipykernel_launcher.py:21: RuntimeWarning: invalid value encountered in double_scalars\n",
      "/home/ytian/.conda/envs/ytian/lib/python3.7/site-packages/ipykernel_launcher.py:30: RuntimeWarning: invalid value encountered in double_scalars\n",
      "/home/ytian/.conda/envs/ytian/lib/python3.7/site-packages/scipy/optimize/minpack.py:162: RuntimeWarning: The iteration is not making good progress, as measured by the \n",
      "  improvement from the last ten iterations.\n",
      "  warnings.warn(msg, RuntimeWarning)\n"
     ]
    }
   ],
   "source": [
    "from __future__ import division\n",
    "import argparse\n",
    "import math\n",
    "import sys\n",
    "\n",
    "import numpy as np\n",
    "from scipy.optimize import fsolve\n",
    "from scipy.special import comb\n",
    "from scipy.stats import poisson\n",
    "import scipy.optimize\n",
    "import scipy.misc\n",
    "from scipy import linalg as LA\n",
    "import matplotlib.pyplot as plt\n",
    "\n",
    "\n",
    "def obtain_val_r_1(v1, v2, t1, mean_degree):\n",
    "    val = 0\n",
    "\n",
    "    for d_r in range(0, max_degree):\n",
    "        prob_r = poisson.pmf(d_r, mean_degree)\n",
    "        val += d_r*prob_r*1.0/mean_degree * ((1 - t1 + t1*u_r_11*v1 + t1*u_r_12*v2)**(d_r-1))\n",
    "\n",
    "    return val\n",
    "\n",
    "def obtain_val_r_2(v1, v2, t2, mean_degree):\n",
    "    val = 0\n",
    "\n",
    "    for d_r in range(0, max_degree):\n",
    "        prob_r = poisson.pmf(d_r, mean_degree)\n",
    "        val += d_r*prob_r*1.0/mean_degree * ((1 - t2 + t2*u_r_22*v2 + t2*u_r_21*v1)**(d_r-1))\n",
    "\n",
    "    return val\n",
    "\n",
    "def equations(p):\n",
    "    v1, v2 = p\n",
    "    val_r_1 = obtain_val_r_1(v1, v2, t_r_1, mean_degree)\n",
    "    val_r_2 = obtain_val_r_2(v1, v2, t_r_2, mean_degree)\n",
    "\n",
    "    return (v1 - val_r_1, v2 - val_r_2)\n",
    "\n",
    "\n",
    "def cascade_prob():\n",
    "    h_r_1, h_r_2 = fsolve(equations, (0.01, 0.01), xtol=1e-6)\n",
    "\n",
    "    H_1 = 0\n",
    "    for d_r in range(0, max_degree):\n",
    "        prob_r = poisson.pmf(d_r, mean_degree)\n",
    "        H_1 += prob_r*((1 - t_r_1 + t_r_1*u_r_11*h_r_1 + t_r_1*u_r_12*h_r_2)**d_r)\n",
    "\n",
    "    H_2 = 0\n",
    "    for d_r in range(0, max_degree):\n",
    "        prob_r = poisson.pmf(d_r, mean_degree)\n",
    "        H_2 += prob_r*((1 - t_r_2 + t_r_2*u_r_22*h_r_2 + t_r_2*u_r_21*h_r_1)**d_r)\n",
    "\n",
    "    return (1 - H_1, 1 - H_2)\n",
    "\n",
    "def parse_args(args):\n",
    "    parser = argparse.ArgumentParser(description = 'Parameters')\n",
    "    parser.add_argument('-m', type = float, nargs = '+', default = np.arange(1.0, 10.1, 0.1), help='np.linspace(0.001, 48, 200) (default); list of mean degree: you can type 1 3 5')\n",
    "    parser.add_argument('-t1', type = float, default = 0.2, help='0.5 (default); the transmissibility of strain-1')\n",
    "    parser.add_argument('-t2', type = float, default = 0.5, help='0.5 (default); the transmissibility of strain-2')\n",
    "    parser.add_argument('-m1', type = float, default = 0.75, help='0.5 (default); the mutation probability from 1 to 1')\n",
    "    parser.add_argument('-m2', type = float, default = 0.75, help='0.5 (default); the mutation probability from 2 to 2')\n",
    "    return parser.parse_args(args)\n",
    "\n",
    "# paras = parse_args(sys.argv[1:])\n",
    "mean_degree_list = np.linspace(0, 10, 50)\n",
    "# t1 = paras.t1\n",
    "# t2 = paras.t2\n",
    "# m1 = paras.m1\n",
    "# m2 = paras.m2\n",
    "t1 = 0.10800\n",
    "t2 = 0.20400\n",
    "m1 = 0.66667\n",
    "m2 = 0.47059\n",
    "\n",
    "pe_0_list = []\n",
    "pe_1_list = []\n",
    "pe_list = []\n",
    "\n",
    "for mean_degree in mean_degree_list:\n",
    "    max_degree = 20\n",
    "    t_r_1 = t1\n",
    "    t_r_2 = t2\n",
    "    u_r_11 = m1\n",
    "    u_r_12 = 1 - u_r_11\n",
    "    u_r_22 = m2\n",
    "    u_r_21 = 1 - u_r_22\n",
    "\n",
    "    \n",
    "    # Here\n",
    "    transMAT = [[t1,0],[0,t2]]\n",
    "    mutMat = [[m1,1-m1],[1-m2,m2]]\n",
    "    a, b = LA.eig(np.dot(transMAT,mutMat))\n",
    "\n",
    "    s1, s2 = cascade_prob()\n",
    "    pe_0_list.append(s1)\n",
    "    pe_1_list.append(s2)\n",
    "    pe_list.append(s1 + s2)\n",
    "    \n",
    "#     print mean_degree, s1, s2, np.real(max(a))\n"
   ]
  },
  {
   "cell_type": "code",
   "execution_count": 3,
   "metadata": {},
   "outputs": [
    {
     "data": {
      "text/plain": [
       "Text(0.5, 1.0, 'Theoratical Prob of Emergence for Mutation Model')"
      ]
     },
     "execution_count": 3,
     "metadata": {},
     "output_type": "execute_result"
    },
    {
     "data": {
      "image/png": "[encoded data removed]",
      "text/plain": [
       "<Figure size 432x288 with 1 Axes>"
      ]
     },
     "metadata": {
      "needs_background": "light"
     },
     "output_type": "display_data"
    }
   ],
   "source": [
    "\n",
    "\n",
    "plt.figure()\n",
    "plt.plot(mean_degree_list, pe_list, 'yo')\n",
    "plt.plot(mean_degree_list, pe_0_list, 'bo')\n",
    "plt.plot(mean_degree_list, pe_1_list, 'ro')\n",
    "\n",
    "plt.xlabel(\"Mean Degree\")\n",
    "plt.ylabel(\"Prob of Emergence\")\n",
    "title = \"Theoratical Prob of Emergence for Mutation Model\"\n",
    "plt.legend([\"Avg\", \"Q1(mask)\", \"Q2(no mask)\"])\n",
    "plt.title(title)"
   ]
  },
  {
   "cell_type": "code",
   "execution_count": null,
   "metadata": {},
   "outputs": [],
   "source": []
  }
 ],
 "metadata": {
  "kernelspec": {
   "display_name": "Python3 (ytian)",
   "language": "python",
   "name": "ytian"
  },
  "language_info": {
   "codemirror_mode": {
    "name": "ipython",
    "version": 3
   },
   "file_extension": ".py",
   "mimetype": "text/x-python",
   "name": "python",
   "nbconvert_exporter": "python",
   "pygments_lexer": "ipython3",
   "version": "3.7.4"
  }
 },
 "nbformat": 4,
 "nbformat_minor": 2
}
