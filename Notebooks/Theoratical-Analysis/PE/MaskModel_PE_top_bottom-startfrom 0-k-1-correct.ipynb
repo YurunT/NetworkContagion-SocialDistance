{
 "cells": [
  {
   "cell_type": "markdown",
   "metadata": {},
   "source": [
    "# Prob of Emergence for Mask Model\n",
    "\n",
    "\n",
    "$P(\\text{Node wears mask}) = m$\n",
    "\n",
    "\n",
    "$E_{L, 0}$ := Following an edge, the probability of extinction at level $L$ given the node wears a mask\n",
    "\n",
    "\n",
    "$E_{L, 1}$ := Following an edge, the probability of extinction at level $L$ given the node doesn't wear a mask\n",
    "\n"
   ]
  },
  {
   "cell_type": "markdown",
   "metadata": {},
   "source": [
    "## 1. Condition on num of neighbors\n",
    "\n",
    "\n",
    "$B_k$ := Node v has $k - 1$ lower level neighbors\n",
    "\n",
    "$P(E_{L, i}) = \\sum_{k = 0}^{\\infty}{P(E_{L, i} | B_k) * P(B_k)}$\n",
    "\n",
    "\n",
    "$P(B_k) = \\frac{k p_{k}}{\\langle k\\rangle}$\n",
    "\n"
   ]
  },
  {
   "cell_type": "markdown",
   "metadata": {},
   "source": [
    "## 2. Condition on num of neighbors wearing a mask\n",
    "\n",
    "$N$ := Num of neighbors wearing masks \n",
    " \n",
    "$N \\sim \\operatorname{Binomial}\\left(k - 1, m\\right)$\n",
    "\n",
    "\n",
    "$ P(E_{L, i} | B_k) = \\sum_{n = 0}^{k - 1} P(E_{L, i} | B_k, N = n) * \\left(\\begin{array}{c}\n",
    "k - 1 \\\\\n",
    "n\n",
    "\\end{array}\\right) * m^{n} * (1 - m)^{k - 1 - n} $\n",
    "\n"
   ]
  },
  {
   "cell_type": "markdown",
   "metadata": {},
   "source": [
    "## 3. Condition on num of infections\n",
    "\n",
    "$I_0$ := $I_0$ of $n$ lower level neighbors who wear masks are active\n",
    "\n",
    "$I_1$ := $I_1$ of $k-1-n$ lower level neighbors who don't wear masks are active\n",
    "\n",
    "\n",
    "\n",
    "### Inital infective wears a mask\n",
    "\n",
    "$I_0 \\sim \\operatorname{Binomial}\\left(n, T_2)\\right)$\n",
    "\n",
    "$I_1 \\sim \\operatorname{Binomial}\\left(k - 1 - n, T_1)\\right)$\n",
    "\n",
    "\n",
    "$P(E_{L, 0} | B_k, N = n) $\n",
    "\n",
    "$= \\sum_{k_0 = 0}^{n}\\sum_{k_1 = 0}^{k - 1 - n}P(E_{L, i} | B_k, N = n, I_0 = k_0, I_1 = k_1) * \\left(\\begin{array}{c}\n",
    "n \\\\\n",
    "k_0\n",
    "\\end{array}\\right)  * T_2 ^{k_0} * (1 - T_2)^{n - k_0} * \\left(\\begin{array}{c}\n",
    "k - 1 - n \\\\\n",
    "k_1\n",
    "\\end{array}\\right) * T_1 ^{k_1} * (1 - T_1)^{k - 1 - n - k_1}$\n",
    "\n",
    "$= \\sum_{k_0 = 0}^{n}\\sum_{k_1 = 0}^{k - 1 - n}\\left(\\begin{array}{c}\n",
    "n \\\\\n",
    "k_0\n",
    "\\end{array}\\right)  * T_2 ^{k_0} * (1 - T_2)^{n - k_0} * \\left(\\begin{array}{c}\n",
    "k - 1 - n \\\\\n",
    "k_1\n",
    "\\end{array}\\right) * T_1 ^{k_1} * (1 - T_1)^{k - 1 - n - k_1} * P(E_{L,0})^{k_0} * P(E_{L, 1})^{k_1}$\n",
    " \n",
    "--- \n",
    "\n",
    "### Inital infective doesn't wear a mask\n",
    "\n",
    "$I_0 \\sim \\operatorname{Binomial}\\left(n, T_4)\\right)$\n",
    "\n",
    "$I_1 \\sim \\operatorname{Binomial}\\left(k - 1 - n, T_3)\\right)$\n",
    "\n",
    "\n",
    "$P(E_{L, 1} | B_k, N = n) $\n",
    "\n",
    "$= \\sum_{k_0 = 0}^{n}\\sum_{k_1 = 0}^{k - 1 - n}P(E_{L, i} | B_k, N = n, I_0 = k_0, I_1 = k_1) * \\left(\\begin{array}{c}\n",
    "n \\\\\n",
    "k_0\n",
    "\\end{array}\\right)  * T_4 ^{k_0} * (1 - T_4)^{n - k_0} * \\left(\\begin{array}{c}\n",
    "k - 1 - n \\\\\n",
    "k_1\n",
    "\\end{array}\\right) * T_3 ^{k_1} * (1 - T_3)^{k - 1 - n - k_1}$\n",
    "\n",
    "$= \\sum_{k_0 = 0}^{n}\\sum_{k_1 = 0}^{k - 1 - n}\\left(\\begin{array}{c}\n",
    "n \\\\\n",
    "k_0\n",
    "\\end{array}\\right)  * T_4 ^{k_0} * (1 - T_4)^{n - k_0} * \\left(\\begin{array}{c}\n",
    "k - 1 - n \\\\\n",
    "k_1\n",
    "\\end{array}\\right) * T_3 ^{k_1} * (1 - T_3)^{k - 1 - n - k_1} * P(E_{L,0})^{k_0} * P(E_{L, 1})^{k_1}$"
   ]
  },
  {
   "cell_type": "code",
   "execution_count": 10,
   "metadata": {},
   "outputs": [],
   "source": [
    "from __future__ import division\n",
    "import argparse\n",
    "import math\n",
    "import sys\n",
    "\n",
    "import numpy as np\n",
    "from scipy.optimize import fsolve\n",
    "from scipy.special import comb\n",
    "from scipy.stats import poisson\n",
    "import matplotlib.pyplot as plt\n",
    "import scipy.optimize\n",
    "import scipy.misc\n",
    "from scipy import linalg as LA\n",
    "\n",
    "def PE(i, is_intermediate, E0, E1, T_list, m, mean_degree):\n",
    "    res = 0\n",
    "    for k in range(0, max_degree):\n",
    "        prob_r = poisson.pmf(k, mean_degree)\n",
    "        \n",
    "        if is_intermediate: # intermediate q using excess degree distribution\n",
    "            pb = prob_r * k * 1.0 / mean_degree \n",
    "        else:\n",
    "            pb = prob_r\n",
    "            \n",
    "        res += pb * PE_B(i, is_intermediate, k, E0, E1, T_list, m)\n",
    "    return res\n",
    "\n",
    "def PE_B(i, is_intermediate, k, E0, E1, T_list, m):\n",
    "    res = 0\n",
    "    one_minus_m = 1 - m\n",
    "    \n",
    "    if is_intermediate: # intermediate q, powers sum up to k - 1\n",
    "        n_range = k\n",
    "    else:               # generation 0, powers sum up to k\n",
    "        n_range = k + 1\n",
    "        \n",
    "    for n in range(n_range):\n",
    "        pe_bn = PE_BN(i, is_intermediate, n, k, E0, E1, T_list, m)\n",
    "        res += pe_bn * comb(n_range - 1, n) * (m ** n) * (one_minus_m ** (n_range - 1 - n))\n",
    "    return res\n",
    "\n",
    "def PE_BN(i, is_intermediate, n, k, E0, E1, T_list, m):\n",
    "    T1 = T_list[0]\n",
    "    T2 = T_list[1]\n",
    "    T3 = T_list[2]\n",
    "    T4 = T_list[3]\n",
    "    \n",
    "    res = 0 \n",
    "    \n",
    "    if i == 0:\n",
    "        t_mask = T2\n",
    "        t_no_mask = T1\n",
    "    else:\n",
    "        t_mask = T4\n",
    "        t_no_mask = T3\n",
    "    \n",
    "    one_minus_mask = 1 - t_mask\n",
    "    one_minus_no_mask = 1 - t_no_mask\n",
    "        \n",
    "    if is_intermediate:\n",
    "        k_range = k \n",
    "    else:\n",
    "        k_range = k + 1\n",
    "        \n",
    "    for k0 in range(n + 1):\n",
    "        for k1 in range(k_range - n):\n",
    "            res += comb(n, k0) * (t_mask ** k0) * (one_minus_mask ** (n - k0)) *\\\n",
    "            comb(k_range - 1 - n, k1) * (t_no_mask ** k1) * (one_minus_no_mask ** (k_range - 1 - n - k1)) *\\\n",
    "            (E0 ** k0) * (E1 ** k1)\n",
    "            \n",
    "    return res\n",
    "\n",
    "def generate_new_transmissibilities_mask(T_mask, T, m):\n",
    "    roundN = 5 # Round T to roundN digits\n",
    "    T1 = round(T * T_mask * T_mask * m, roundN)\n",
    "    T2 = round(T * T_mask * (1 - m), roundN)\n",
    "    T3 = round(T * (1 - m), roundN)\n",
    "    T4 = round(T * T_mask * m , roundN)\n",
    "    \n",
    "#     T1 = round(T * T_mask, roundN)\n",
    "#     T2 = round(T * T_mask * T_mask, roundN)\n",
    "#     T3 = round(T, roundN)\n",
    "#     T4 = round(T * T_mask, roundN)\n",
    "\n",
    "    trans_dict = {'T1': T1,\n",
    "                  'T2': T2,\n",
    "                  'T3': T3,\n",
    "                  'T4': T4}\n",
    "\n",
    "#     print(\"T1: %.5f\" %T1)\n",
    "#     print(\"T2: %.5f\" %T2)\n",
    "#     print(\"T3: %.5f\" %T3)\n",
    "#     print(\"T4: %.5f\" %T4)\n",
    "    \n",
    "    return trans_dict    \n",
    "\n",
    "def generate_new_transmissibilities_mutation(T_mask, T, m):\n",
    "    roundN = 5 # Round T to roundN digits\n",
    "#     T1 = round(T * T_mask, roundN)\n",
    "#     T2 = round(T * T_mask * T_mask, roundN)\n",
    "#     T3 = round(T, roundN)\n",
    "#     T4 = round(T * T_mask, roundN)\n",
    "    T1 = round(T * T_mask * T_mask * m, roundN)\n",
    "    T2 = round(T * T_mask * (1 - m), roundN)\n",
    "    T3 = round(T * (1 - m), roundN)\n",
    "    T4 = round(T * T_mask * m , roundN)\n",
    "\n",
    "    Q1 = T1 * (1 - m) + T2 * m\n",
    "    Q2 = T3 * (1 - m) + T4 * m\n",
    "\n",
    "    mu11 = T2 * m / Q1\n",
    "    mu12 = T1 * (1 - m) / Q1\n",
    "    mu22 = T3 * (1 - m) / Q2\n",
    "    mu21 = T4 * m / Q2\n",
    "\n",
    "    trans_dict = {'T1': T1,\n",
    "                  'T2': T2,\n",
    "                  'T3': T3,\n",
    "                  'T4': T4}\n",
    "    \n",
    "    mu_dict = {'mu11': mu11,\n",
    "               'mu12': mu12,\n",
    "               'mu22': mu22,\n",
    "               'mu21': mu21,}\n",
    "\n",
    "    print(\"Q1: %.5f\" %Q1)\n",
    "    print(\"Q2: %.5f\" %Q2)\n",
    "    \n",
    "    print(\"T1: %.5f\" %T1)\n",
    "    print(\"T2: %.5f\" %T2)\n",
    "    print(\"T3: %.5f\" %T3)\n",
    "    print(\"T4: %.5f\" %T4)\n",
    "\n",
    "    print(\"mu11: %.5f\" %mu11)\n",
    "    print(\"mu12: %.5f\" %mu12)\n",
    "    print(\"mu22: %.5f\" %mu22)\n",
    "    print(\"mu21: %.5f\" %mu21)\n",
    "    return trans_dict, mu_dict\n",
    "\n",
    "def PE_vec(mean_degree, is_intermediate,  T_list, m, E0, E1):\n",
    "    E0 = PE(0, is_intermediate, E0, E1, T_list, m, mean_degree)\n",
    "    E1 = PE(1, is_intermediate, E0, E1, T_list, m, mean_degree)\n",
    "    return np.array([E0, E1])\n",
    "\n",
    "def func_root(E, mean_degree, T_list, m):\n",
    "    return PE_vec(mean_degree, True, T_list, m, E[0], E[1]) - np.array(E)\n",
    "\n",
    "def get_ProbEmergence(mean_degree, nodeN, T_list, m):\n",
    "    E0, E1 = fsolve(func_root, (0.01, 0.01), args=(mean_degree, T_list, m), xtol=1e-6)    \n",
    "    return 1 - PE_vec(mean_degree, False,  T_list, m, E0, E1)"
   ]
  },
  {
   "cell_type": "markdown",
   "metadata": {},
   "source": [
    "# Solve the equation"
   ]
  },
  {
   "cell_type": "code",
   "execution_count": 11,
   "metadata": {},
   "outputs": [],
   "source": [
    "\"\"\"\n",
    "Parameters setup.\n",
    "\"\"\"\n",
    "T_mask = 0.5 # Impact of the mask\n",
    "T = 0.6 # Original virus transmissiblity\n",
    "m = 0.6 # P(people wear mask)\n",
    "nodeN = 200000\n",
    "\n",
    "\n",
    "dict_M = generate_new_transmissibilities_mask(T_mask, T, m)\n",
    "\n",
    "T_list = list(generate_new_transmissibilities_mask(T_mask, T, m).values())\n",
    "\n",
    "degree_min = 0\n",
    "degree_max = 10\n",
    "interval_num = 50\n",
    "\n",
    "mean_degree_list = np.linspace(degree_min, degree_max, interval_num)\n",
    "\n",
    "max_degree = 2 * degree_max # degree_inf\n",
    "\n",
    "# h_r_1, h_r_2 = fsolve(func_root, (0.01, 0.01), args=(5, T_list, m), xtol=1e-6)"
   ]
  },
  {
   "cell_type": "code",
   "execution_count": 12,
   "metadata": {},
   "outputs": [
    {
     "data": {
      "text/plain": [
       "[0.09, 0.12, 0.24, 0.18]"
      ]
     },
     "execution_count": 12,
     "metadata": {},
     "output_type": "execute_result"
    }
   ],
   "source": [
    "T_list"
   ]
  },
  {
   "cell_type": "code",
   "execution_count": 13,
   "metadata": {
    "scrolled": false
   },
   "outputs": [
    {
     "name": "stdout",
     "output_type": "stream",
     "text": [
      "Mean degree: 0.0\n"
     ]
    },
    {
     "name": "stderr",
     "output_type": "stream",
     "text": [
      "/home/ytian/.conda/envs/ytian/lib/python3.7/site-packages/ipykernel_launcher.py:21: RuntimeWarning: invalid value encountered in double_scalars\n",
      "/home/ytian/.conda/envs/ytian/lib/python3.7/site-packages/scipy/optimize/minpack.py:162: RuntimeWarning: The iteration is not making good progress, as measured by the \n",
      "  improvement from the last ten iterations.\n",
      "  warnings.warn(msg, RuntimeWarning)\n"
     ]
    },
    {
     "name": "stdout",
     "output_type": "stream",
     "text": [
      "Mean degree: 0.20408163265306123\n",
      "Mean degree: 0.40816326530612246\n",
      "Mean degree: 0.6122448979591837\n",
      "Mean degree: 0.8163265306122449\n",
      "Mean degree: 1.0204081632653061\n",
      "Mean degree: 1.2244897959183674\n",
      "Mean degree: 1.4285714285714286\n",
      "Mean degree: 1.6326530612244898\n",
      "Mean degree: 1.836734693877551\n",
      "Mean degree: 2.0408163265306123\n",
      "Mean degree: 2.2448979591836737\n",
      "Mean degree: 2.4489795918367347\n",
      "Mean degree: 2.6530612244897958\n",
      "Mean degree: 2.857142857142857\n",
      "Mean degree: 3.0612244897959187\n",
      "Mean degree: 3.2653061224489797\n",
      "Mean degree: 3.4693877551020407\n",
      "Mean degree: 3.673469387755102\n",
      "Mean degree: 3.8775510204081636\n",
      "Mean degree: 4.081632653061225\n",
      "Mean degree: 4.285714285714286\n",
      "Mean degree: 4.4897959183673475\n",
      "Mean degree: 4.6938775510204085\n",
      "Mean degree: 4.8979591836734695\n",
      "Mean degree: 5.1020408163265305\n",
      "Mean degree: 5.3061224489795915\n",
      "Mean degree: 5.510204081632653\n",
      "Mean degree: 5.714285714285714\n",
      "Mean degree: 5.918367346938775\n",
      "Mean degree: 6.122448979591837\n",
      "Mean degree: 6.326530612244898\n",
      "Mean degree: 6.530612244897959\n",
      "Mean degree: 6.73469387755102\n",
      "Mean degree: 6.938775510204081\n",
      "Mean degree: 7.142857142857143\n",
      "Mean degree: 7.346938775510204\n",
      "Mean degree: 7.551020408163265\n",
      "Mean degree: 7.755102040816327\n",
      "Mean degree: 7.959183673469388\n",
      "Mean degree: 8.16326530612245\n",
      "Mean degree: 8.36734693877551\n",
      "Mean degree: 8.571428571428571\n",
      "Mean degree: 8.775510204081632\n",
      "Mean degree: 8.979591836734695\n",
      "Mean degree: 9.183673469387756\n",
      "Mean degree: 9.387755102040817\n",
      "Mean degree: 9.591836734693878\n",
      "Mean degree: 9.795918367346939\n",
      "Mean degree: 10.0\n"
     ]
    }
   ],
   "source": [
    "pe_0_list_m = []\n",
    "pe_1_list_m = []\n",
    "pe_list_m = []\n",
    "\n",
    "for mean_degree in mean_degree_list:\n",
    "    print(\"Mean degree:\", mean_degree)\n",
    "    E_0_1 = get_ProbEmergence(mean_degree, nodeN, T_list, m)\n",
    "    pe_list_m.append(E_0_1[0] * m + E_0_1[1] * (1 - m))\n",
    "    pe_0_list_m.append(E_0_1[0])\n",
    "    pe_1_list_m.append(E_0_1[1])"
   ]
  },
  {
   "cell_type": "markdown",
   "metadata": {},
   "source": [
    "# mutation"
   ]
  },
  {
   "cell_type": "code",
   "execution_count": 14,
   "metadata": {},
   "outputs": [
    {
     "name": "stdout",
     "output_type": "stream",
     "text": [
      "Q1: 0.10800\n",
      "Q2: 0.20400\n",
      "T1: 0.09000\n",
      "T2: 0.12000\n",
      "T3: 0.24000\n",
      "T4: 0.18000\n",
      "mu11: 0.66667\n",
      "mu12: 0.33333\n",
      "mu22: 0.47059\n",
      "mu21: 0.52941\n"
     ]
    },
    {
     "data": {
      "text/plain": [
       "({'T1': 0.09, 'T2': 0.12, 'T3': 0.24, 'T4': 0.18},\n",
       " {'mu11': 0.6666666666666667,\n",
       "  'mu12': 0.33333333333333337,\n",
       "  'mu22': 0.47058823529411764,\n",
       "  'mu21': 0.5294117647058824})"
      ]
     },
     "execution_count": 14,
     "metadata": {},
     "output_type": "execute_result"
    }
   ],
   "source": [
    "generate_new_transmissibilities_mutation(T_mask, T, m)"
   ]
  },
  {
   "cell_type": "code",
   "execution_count": 15,
   "metadata": {},
   "outputs": [
    {
     "name": "stderr",
     "output_type": "stream",
     "text": [
      "/home/ytian/.conda/envs/ytian/lib/python3.7/site-packages/ipykernel_launcher.py:6: RuntimeWarning: invalid value encountered in double_scalars\n",
      "  \n",
      "/home/ytian/.conda/envs/ytian/lib/python3.7/site-packages/ipykernel_launcher.py:15: RuntimeWarning: invalid value encountered in double_scalars\n",
      "  from ipykernel import kernelapp as app\n"
     ]
    }
   ],
   "source": [
    "def obtain_val_r_1(v1, v2, t1, mean_degree):\n",
    "    val = 0\n",
    "\n",
    "    for d_r in range(0, max_degree):\n",
    "        prob_r = poisson.pmf(d_r, mean_degree)\n",
    "        val += d_r*prob_r*1.0/mean_degree * ((1 - t1 + t1*u_r_11*v1 + t1*u_r_12*v2)**(d_r-1))\n",
    "\n",
    "    return val\n",
    "\n",
    "def obtain_val_r_2(v1, v2, t2, mean_degree):\n",
    "    val = 0\n",
    "\n",
    "    for d_r in range(0, max_degree):\n",
    "        prob_r = poisson.pmf(d_r, mean_degree)\n",
    "        val += d_r*prob_r*1.0/mean_degree * ((1 - t2 + t2*u_r_22*v2 + t2*u_r_21*v1)**(d_r-1))\n",
    "\n",
    "    return val\n",
    "\n",
    "def equations(p):\n",
    "    v1, v2 = p\n",
    "    val_r_1 = obtain_val_r_1(v1, v2, t_r_1, mean_degree)\n",
    "    val_r_2 = obtain_val_r_2(v1, v2, t_r_2, mean_degree)\n",
    "\n",
    "    return (v1 - val_r_1, v2 - val_r_2)\n",
    "\n",
    "\n",
    "def cascade_prob():\n",
    "    h_r_1, h_r_2 = fsolve(equations, (0.01, 0.01), xtol=1e-6)\n",
    "\n",
    "    H_1 = 0\n",
    "    for d_r in range(0, max_degree):\n",
    "        prob_r = poisson.pmf(d_r, mean_degree)\n",
    "        H_1 += prob_r*((1 - t_r_1 + t_r_1*u_r_11*h_r_1 + t_r_1*u_r_12*h_r_2)**d_r)\n",
    "\n",
    "    H_2 = 0\n",
    "    for d_r in range(0, max_degree):\n",
    "        prob_r = poisson.pmf(d_r, mean_degree)\n",
    "        H_2 += prob_r*((1 - t_r_2 + t_r_2*u_r_22*h_r_2 + t_r_2*u_r_21*h_r_1)**d_r)\n",
    "\n",
    "    return (1 - H_1, 1 - H_2)\n",
    "\n",
    "def parse_args(args):\n",
    "    parser = argparse.ArgumentParser(description = 'Parameters')\n",
    "    parser.add_argument('-m', type = float, nargs = '+', default = np.arange(1.0, 10.1, 0.1), help='np.linspace(0.001, 48, 200) (default); list of mean degree: you can type 1 3 5')\n",
    "    parser.add_argument('-t1', type = float, default = 0.2, help='0.5 (default); the transmissibility of strain-1')\n",
    "    parser.add_argument('-t2', type = float, default = 0.5, help='0.5 (default); the transmissibility of strain-2')\n",
    "    parser.add_argument('-m1', type = float, default = 0.75, help='0.5 (default); the mutation probability from 1 to 1')\n",
    "    parser.add_argument('-m2', type = float, default = 0.75, help='0.5 (default); the mutation probability from 2 to 2')\n",
    "    return parser.parse_args(args)\n",
    "\n",
    "# paras = parse_args(sys.argv[1:])\n",
    "mean_degree_list = np.linspace(0, 20, 100)\n",
    "# t1 = paras.t1\n",
    "# t2 = paras.t2\n",
    "# m1 = paras.m1\n",
    "# m2 = paras.m2\n",
    "\n",
    "### correct\n",
    "# t1 = 0.21000\n",
    "# t2  = 0.42000\n",
    "# m1 = 0.42857\n",
    "# m2 = 0.57143\n",
    "\n",
    "\n",
    "t1 = 0.10800\n",
    "t2 = 0.20400\n",
    "m1 = 0.66667\n",
    "m2 = 0.47059\n",
    "\n",
    "pe_0_list = []\n",
    "pe_1_list = []\n",
    "pe_list = []\n",
    "\n",
    "for mean_degree in mean_degree_list:\n",
    "    max_degree = 2 * int(mean_degree_list[-1])\n",
    "    t_r_1 = t1\n",
    "    t_r_2 = t2\n",
    "    u_r_11 = m1\n",
    "    u_r_12 = 1 - u_r_11\n",
    "    u_r_22 = m2\n",
    "    u_r_21 = 1 - u_r_22\n",
    "\n",
    "    \n",
    "    # Here\n",
    "    transMAT = [[t1,0],[0,t2]]\n",
    "    mutMat = [[m1,1-m1],[1-m2,m2]]\n",
    "    a, b = LA.eig(np.dot(transMAT,mutMat))\n",
    "\n",
    "    s1, s2 = cascade_prob()\n",
    "    pe_0_list.append(s1)\n",
    "    pe_1_list.append(s2)\n",
    "    pe_list.append(s1 + s2)\n",
    "    \n",
    "#     print mean_degree, s1, s2, np.real(max(a))\n"
   ]
  },
  {
   "cell_type": "code",
   "execution_count": 16,
   "metadata": {},
   "outputs": [],
   "source": [
    "# pe_0_list_m = np.load(\"PE_0_mask_20.npy\")\n",
    "# pe_1_list_m = np.load(\"PE_1_mask_20.npy\")\n",
    "# pe_0_list = np.load(\"PE_0_mu_20.npy\")\n",
    "# pe_1_list = np.load(\"PE_1_mu_20.npy\")\n",
    "# # np.save( \"PE_0_mask_20.npy\", np.array(pe_0_list_m))\n",
    "# # np.save( \"PE_1_mask_20.npy\", np.array(pe_1_list_m))\n",
    "# # np.save( \"PE_0_mu_20.npy\", np.array(pe_0_list))\n",
    "# # np.save( \"PE_1_mu_20.npy\", np.array(pe_1_list))\n",
    "# mean_degree_list = np.linspace(0, 20, 100)"
   ]
  },
  {
   "cell_type": "code",
   "execution_count": 17,
   "metadata": {
    "scrolled": true
   },
   "outputs": [
    {
     "ename": "ValueError",
     "evalue": "x and y must have same first dimension, but have shapes (100,) and (50,)",
     "output_type": "error",
     "traceback": [
      "\u001b[0;31m---------------------------------------------------------------------------\u001b[0m",
      "\u001b[0;31mValueError\u001b[0m                                Traceback (most recent call last)",
      "\u001b[0;32m<ipython-input-17-5fb1bf2c0640>\u001b[0m in \u001b[0;36m<module>\u001b[0;34m\u001b[0m\n\u001b[1;32m      2\u001b[0m \u001b[0;31m# plt.plot(mean_degree_list, pe_list, 'yo')\u001b[0m\u001b[0;34m\u001b[0m\u001b[0;34m\u001b[0m\u001b[0;34m\u001b[0m\u001b[0m\n\u001b[1;32m      3\u001b[0m \u001b[0;31m# plt.plot(mean_degree_list, np.array(pe_0_list_m) +  np.array(pe_1_list_m), 'ro', alpha = 0.5)\u001b[0m\u001b[0;34m\u001b[0m\u001b[0;34m\u001b[0m\u001b[0;34m\u001b[0m\u001b[0m\n\u001b[0;32m----> 4\u001b[0;31m \u001b[0mplt\u001b[0m\u001b[0;34m.\u001b[0m\u001b[0mplot\u001b[0m\u001b[0;34m(\u001b[0m\u001b[0mmean_degree_list\u001b[0m\u001b[0;34m,\u001b[0m \u001b[0mnp\u001b[0m\u001b[0;34m.\u001b[0m\u001b[0marray\u001b[0m\u001b[0;34m(\u001b[0m\u001b[0mpe_0_list_m\u001b[0m\u001b[0;34m)\u001b[0m \u001b[0;34m,\u001b[0m \u001b[0;34m'g.'\u001b[0m\u001b[0;34m,\u001b[0m \u001b[0malpha\u001b[0m \u001b[0;34m=\u001b[0m \u001b[0;36m0.5\u001b[0m\u001b[0;34m)\u001b[0m\u001b[0;34m\u001b[0m\u001b[0;34m\u001b[0m\u001b[0m\n\u001b[0m\u001b[1;32m      5\u001b[0m \u001b[0mplt\u001b[0m\u001b[0;34m.\u001b[0m\u001b[0mplot\u001b[0m\u001b[0;34m(\u001b[0m\u001b[0mmean_degree_list\u001b[0m\u001b[0;34m,\u001b[0m \u001b[0mnp\u001b[0m\u001b[0;34m.\u001b[0m\u001b[0marray\u001b[0m\u001b[0;34m(\u001b[0m\u001b[0mpe_1_list_m\u001b[0m\u001b[0;34m)\u001b[0m \u001b[0;34m,\u001b[0m \u001b[0;34m'b.'\u001b[0m\u001b[0;34m,\u001b[0m \u001b[0malpha\u001b[0m \u001b[0;34m=\u001b[0m \u001b[0;36m0.5\u001b[0m\u001b[0;34m)\u001b[0m\u001b[0;34m\u001b[0m\u001b[0;34m\u001b[0m\u001b[0m\n\u001b[1;32m      6\u001b[0m \u001b[0;31m# plt.plot(mean_degree_list, sim_mask_pe1, 'bp', alpha = 0.5)\u001b[0m\u001b[0;34m\u001b[0m\u001b[0;34m\u001b[0m\u001b[0;34m\u001b[0m\u001b[0m\n",
      "\u001b[0;32m~/.conda/envs/ytian/lib/python3.7/site-packages/matplotlib/pyplot.py\u001b[0m in \u001b[0;36mplot\u001b[0;34m(scalex, scaley, data, *args, **kwargs)\u001b[0m\n\u001b[1;32m   2794\u001b[0m     return gca().plot(\n\u001b[1;32m   2795\u001b[0m         *args, scalex=scalex, scaley=scaley, **({\"data\": data} if data\n\u001b[0;32m-> 2796\u001b[0;31m         is not None else {}), **kwargs)\n\u001b[0m\u001b[1;32m   2797\u001b[0m \u001b[0;34m\u001b[0m\u001b[0m\n\u001b[1;32m   2798\u001b[0m \u001b[0;34m\u001b[0m\u001b[0m\n",
      "\u001b[0;32m~/.conda/envs/ytian/lib/python3.7/site-packages/matplotlib/axes/_axes.py\u001b[0m in \u001b[0;36mplot\u001b[0;34m(self, scalex, scaley, data, *args, **kwargs)\u001b[0m\n\u001b[1;32m   1663\u001b[0m         \"\"\"\n\u001b[1;32m   1664\u001b[0m         \u001b[0mkwargs\u001b[0m \u001b[0;34m=\u001b[0m \u001b[0mcbook\u001b[0m\u001b[0;34m.\u001b[0m\u001b[0mnormalize_kwargs\u001b[0m\u001b[0;34m(\u001b[0m\u001b[0mkwargs\u001b[0m\u001b[0;34m,\u001b[0m \u001b[0mmlines\u001b[0m\u001b[0;34m.\u001b[0m\u001b[0mLine2D\u001b[0m\u001b[0;34m.\u001b[0m\u001b[0m_alias_map\u001b[0m\u001b[0;34m)\u001b[0m\u001b[0;34m\u001b[0m\u001b[0;34m\u001b[0m\u001b[0m\n\u001b[0;32m-> 1665\u001b[0;31m         \u001b[0mlines\u001b[0m \u001b[0;34m=\u001b[0m \u001b[0;34m[\u001b[0m\u001b[0;34m*\u001b[0m\u001b[0mself\u001b[0m\u001b[0;34m.\u001b[0m\u001b[0m_get_lines\u001b[0m\u001b[0;34m(\u001b[0m\u001b[0;34m*\u001b[0m\u001b[0margs\u001b[0m\u001b[0;34m,\u001b[0m \u001b[0mdata\u001b[0m\u001b[0;34m=\u001b[0m\u001b[0mdata\u001b[0m\u001b[0;34m,\u001b[0m \u001b[0;34m**\u001b[0m\u001b[0mkwargs\u001b[0m\u001b[0;34m)\u001b[0m\u001b[0;34m]\u001b[0m\u001b[0;34m\u001b[0m\u001b[0;34m\u001b[0m\u001b[0m\n\u001b[0m\u001b[1;32m   1666\u001b[0m         \u001b[0;32mfor\u001b[0m \u001b[0mline\u001b[0m \u001b[0;32min\u001b[0m \u001b[0mlines\u001b[0m\u001b[0;34m:\u001b[0m\u001b[0;34m\u001b[0m\u001b[0;34m\u001b[0m\u001b[0m\n\u001b[1;32m   1667\u001b[0m             \u001b[0mself\u001b[0m\u001b[0;34m.\u001b[0m\u001b[0madd_line\u001b[0m\u001b[0;34m(\u001b[0m\u001b[0mline\u001b[0m\u001b[0;34m)\u001b[0m\u001b[0;34m\u001b[0m\u001b[0;34m\u001b[0m\u001b[0m\n",
      "\u001b[0;32m~/.conda/envs/ytian/lib/python3.7/site-packages/matplotlib/axes/_base.py\u001b[0m in \u001b[0;36m__call__\u001b[0;34m(self, *args, **kwargs)\u001b[0m\n\u001b[1;32m    223\u001b[0m                 \u001b[0mthis\u001b[0m \u001b[0;34m+=\u001b[0m \u001b[0margs\u001b[0m\u001b[0;34m[\u001b[0m\u001b[0;36m0\u001b[0m\u001b[0;34m]\u001b[0m\u001b[0;34m,\u001b[0m\u001b[0;34m\u001b[0m\u001b[0;34m\u001b[0m\u001b[0m\n\u001b[1;32m    224\u001b[0m                 \u001b[0margs\u001b[0m \u001b[0;34m=\u001b[0m \u001b[0margs\u001b[0m\u001b[0;34m[\u001b[0m\u001b[0;36m1\u001b[0m\u001b[0;34m:\u001b[0m\u001b[0;34m]\u001b[0m\u001b[0;34m\u001b[0m\u001b[0;34m\u001b[0m\u001b[0m\n\u001b[0;32m--> 225\u001b[0;31m             \u001b[0;32myield\u001b[0m \u001b[0;32mfrom\u001b[0m \u001b[0mself\u001b[0m\u001b[0;34m.\u001b[0m\u001b[0m_plot_args\u001b[0m\u001b[0;34m(\u001b[0m\u001b[0mthis\u001b[0m\u001b[0;34m,\u001b[0m \u001b[0mkwargs\u001b[0m\u001b[0;34m)\u001b[0m\u001b[0;34m\u001b[0m\u001b[0;34m\u001b[0m\u001b[0m\n\u001b[0m\u001b[1;32m    226\u001b[0m \u001b[0;34m\u001b[0m\u001b[0m\n\u001b[1;32m    227\u001b[0m     \u001b[0;32mdef\u001b[0m \u001b[0mget_next_color\u001b[0m\u001b[0;34m(\u001b[0m\u001b[0mself\u001b[0m\u001b[0;34m)\u001b[0m\u001b[0;34m:\u001b[0m\u001b[0;34m\u001b[0m\u001b[0;34m\u001b[0m\u001b[0m\n",
      "\u001b[0;32m~/.conda/envs/ytian/lib/python3.7/site-packages/matplotlib/axes/_base.py\u001b[0m in \u001b[0;36m_plot_args\u001b[0;34m(self, tup, kwargs)\u001b[0m\n\u001b[1;32m    389\u001b[0m             \u001b[0mx\u001b[0m\u001b[0;34m,\u001b[0m \u001b[0my\u001b[0m \u001b[0;34m=\u001b[0m \u001b[0mindex_of\u001b[0m\u001b[0;34m(\u001b[0m\u001b[0mtup\u001b[0m\u001b[0;34m[\u001b[0m\u001b[0;34m-\u001b[0m\u001b[0;36m1\u001b[0m\u001b[0;34m]\u001b[0m\u001b[0;34m)\u001b[0m\u001b[0;34m\u001b[0m\u001b[0;34m\u001b[0m\u001b[0m\n\u001b[1;32m    390\u001b[0m \u001b[0;34m\u001b[0m\u001b[0m\n\u001b[0;32m--> 391\u001b[0;31m         \u001b[0mx\u001b[0m\u001b[0;34m,\u001b[0m \u001b[0my\u001b[0m \u001b[0;34m=\u001b[0m \u001b[0mself\u001b[0m\u001b[0;34m.\u001b[0m\u001b[0m_xy_from_xy\u001b[0m\u001b[0;34m(\u001b[0m\u001b[0mx\u001b[0m\u001b[0;34m,\u001b[0m \u001b[0my\u001b[0m\u001b[0;34m)\u001b[0m\u001b[0;34m\u001b[0m\u001b[0;34m\u001b[0m\u001b[0m\n\u001b[0m\u001b[1;32m    392\u001b[0m \u001b[0;34m\u001b[0m\u001b[0m\n\u001b[1;32m    393\u001b[0m         \u001b[0;32mif\u001b[0m \u001b[0mself\u001b[0m\u001b[0;34m.\u001b[0m\u001b[0mcommand\u001b[0m \u001b[0;34m==\u001b[0m \u001b[0;34m'plot'\u001b[0m\u001b[0;34m:\u001b[0m\u001b[0;34m\u001b[0m\u001b[0;34m\u001b[0m\u001b[0m\n",
      "\u001b[0;32m~/.conda/envs/ytian/lib/python3.7/site-packages/matplotlib/axes/_base.py\u001b[0m in \u001b[0;36m_xy_from_xy\u001b[0;34m(self, x, y)\u001b[0m\n\u001b[1;32m    268\u001b[0m         \u001b[0;32mif\u001b[0m \u001b[0mx\u001b[0m\u001b[0;34m.\u001b[0m\u001b[0mshape\u001b[0m\u001b[0;34m[\u001b[0m\u001b[0;36m0\u001b[0m\u001b[0;34m]\u001b[0m \u001b[0;34m!=\u001b[0m \u001b[0my\u001b[0m\u001b[0;34m.\u001b[0m\u001b[0mshape\u001b[0m\u001b[0;34m[\u001b[0m\u001b[0;36m0\u001b[0m\u001b[0;34m]\u001b[0m\u001b[0;34m:\u001b[0m\u001b[0;34m\u001b[0m\u001b[0;34m\u001b[0m\u001b[0m\n\u001b[1;32m    269\u001b[0m             raise ValueError(\"x and y must have same first dimension, but \"\n\u001b[0;32m--> 270\u001b[0;31m                              \"have shapes {} and {}\".format(x.shape, y.shape))\n\u001b[0m\u001b[1;32m    271\u001b[0m         \u001b[0;32mif\u001b[0m \u001b[0mx\u001b[0m\u001b[0;34m.\u001b[0m\u001b[0mndim\u001b[0m \u001b[0;34m>\u001b[0m \u001b[0;36m2\u001b[0m \u001b[0;32mor\u001b[0m \u001b[0my\u001b[0m\u001b[0;34m.\u001b[0m\u001b[0mndim\u001b[0m \u001b[0;34m>\u001b[0m \u001b[0;36m2\u001b[0m\u001b[0;34m:\u001b[0m\u001b[0;34m\u001b[0m\u001b[0;34m\u001b[0m\u001b[0m\n\u001b[1;32m    272\u001b[0m             raise ValueError(\"x and y can be no greater than 2-D, but have \"\n",
      "\u001b[0;31mValueError\u001b[0m: x and y must have same first dimension, but have shapes (100,) and (50,)"
     ]
    },
    {
     "data": {
      "image/png": "[encoded data removed]",
      "text/plain": [
       "<Figure size 432x288 with 1 Axes>"
      ]
     },
     "metadata": {
      "needs_background": "light"
     },
     "output_type": "display_data"
    }
   ],
   "source": [
    "plt.figure()\n",
    "# plt.plot(mean_degree_list, pe_list, 'yo')\n",
    "# plt.plot(mean_degree_list, np.array(pe_0_list_m) +  np.array(pe_1_list_m), 'ro', alpha = 0.5)\n",
    "plt.plot(mean_degree_list, np.array(pe_0_list_m) , 'g.', alpha = 0.5)\n",
    "plt.plot(mean_degree_list, np.array(pe_1_list_m) , 'b.', alpha = 0.5)\n",
    "# plt.plot(mean_degree_list, sim_mask_pe1, 'bp', alpha = 0.5)\n",
    "# plt.plot(mean_degree_list, np.array(pe_1_list_m) , 'r^')\n",
    "# plt.plot(mean_degree_list, np.array(pe_0_list) + np.array(pe_1_list) , 'c^', )\n",
    "plt.plot(mean_degree_list, np.array(pe_0_list) , 'm+', )\n",
    "plt.plot(mean_degree_list, np.array(pe_1_list) , 'y+', )\n",
    "# plt.plot(mean_degree_list, sim_mu_pe1 , 'ro', alpha = 0.5)\n",
    "# plt.plot(mean_degree_list, np.array(pe_1_list) , 'yo')\n",
    "\n",
    "plt.xlabel(\"Mean Degree\")\n",
    "plt.ylabel(\"Prob of Emergence\")\n",
    "title = \"Theoratical Prob of Emergence\"\n",
    "plt.legend([\n",
    "            \"Seed is Mask         (Mask model)\",\n",
    "            \"Seed is no Mask    (Mask model)\", \n",
    "#             \"Seed is no Mask    (Mask model simulation)\", \n",
    "            \n",
    "            \"Seed is Strain-1   (Mutation model)\",\n",
    "            \"Seed is Strain-2   (Mutation model)\", ])\n",
    "#             \"Seed is Strain-2(Mutation model simulation)\"])\n",
    "plt.title(title)\n",
    "\n",
    "np.save( \"PE_0_mask_20.npy\", np.array(pe_0_list_m))\n",
    "np.save( \"PE_1_mask_20.npy\", np.array(pe_1_list_m))\n",
    "np.save( \"PE_0_mu_20.npy\", np.array(pe_0_list))\n",
    "np.save( \"PE_1_mu_20.npy\", np.array(pe_1_list))"
   ]
  },
  {
   "cell_type": "code",
   "execution_count": 12,
   "metadata": {},
   "outputs": [],
   "source": [
    "sim_mask_path = '../../../Mask2Results/082822:20_n2000000_e100/Results/'\n",
    "sim_mask_pe1 = np.load(sim_mask_path + \"start-mask/Prob_Emergence.npy\")\n",
    "# sim_mask_pe2 = np.load(\"../../../Mask2Results/082317:17_n200000_e100/Results/start-nomask/\")\n",
    "sim_mask_pe2 = np.load(sim_mask_path + \"start-nomask/Prob_Emergence.npy\")\n",
    "\n",
    "\n",
    "\n",
    "# sim_mu_pe1 = np.load(\"../../../MutationResults/082510:55_n50000_e100/Results/start-s1/Prob_Emergence.npy\")\n",
    "# sim_mu_pe2 = np.load(\"../../../MutationResults/082317:14_n2000000_e100/Results/start-s1/Prob_Emergence.npy\")\n"
   ]
  },
  {
   "cell_type": "code",
   "execution_count": 13,
   "metadata": {},
   "outputs": [
    {
     "data": {
      "text/plain": [
       "Text(0.5, 1.0, 'Prob of Emergence for Mask Model')"
      ]
     },
     "execution_count": 13,
     "metadata": {},
     "output_type": "execute_result"
    },
    {
     "data": {
      "image/png": "[encoded data removed]",
      "text/plain": [
       "<Figure size 432x288 with 1 Axes>"
      ]
     },
     "metadata": {
      "needs_background": "light"
     },
     "output_type": "display_data"
    }
   ],
   "source": [
    "plt.figure()\n",
    "# plt.plot(mean_degree_list, pe_list, 'yo')\n",
    "# plt.plot(mean_degree_list, np.array(pe_0_list_m) +  np.array(pe_1_list_m), 'r+', alpha = 0.5)\n",
    "plt.plot(mean_degree_list, np.array(pe_0_list_m) , 'g+', alpha = 0.5)\n",
    "plt.plot(mean_degree_list, np.array(pe_1_list_m) , 'b+', alpha = 0.5)\n",
    "# plt.plot(mean_degree_list, sim_mask_pe1, 'bp', alpha = 0.5)\n",
    "plt.plot(mean_degree_list, np.array(sim_mask_pe1) , 'gx')\n",
    "plt.plot(mean_degree_list, np.array(sim_mask_pe2) , 'bx')\n",
    "# plt.plot(mean_degree_list, np.array(pe_0_list) + np.array(pe_1_list) , 'c^', )\n",
    "# plt.plot(mean_degree_list, np.array(pe_0_list) , 'm^', )\n",
    "# plt.plot(mean_degree_list, np.array(pe_1_list) , 'y^', )\n",
    "# plt.plot(mean_degree_list, sim_mu_pe1 , 'ro', alpha = 0.5)\n",
    "# plt.plot(mean_degree_list, np.array(pe_1_list) , 'yo')\n",
    "\n",
    "plt.xlabel(\"Mean Degree\")\n",
    "plt.ylabel(\"Prob of Emergence\")\n",
    "title = \"Prob of Emergence for Mask Model\"\n",
    "plt.legend([\n",
    "            \"Seed is Mask(Mask model theory)\",\n",
    "            \"Seed is no Mask(Mask model theory)\", \n",
    "            \"Seed is Mask(Mask model simulation)\", \n",
    "    \"Seed is no Mask(Mask model simulation)\", \n",
    "            \n",
    "            ])\n",
    "#             \"Seed is Strain-2(Mutation model simulation)\"])\n",
    "plt.title(title)"
   ]
  },
  {
   "cell_type": "code",
   "execution_count": 46,
   "metadata": {},
   "outputs": [
    {
     "data": {
      "text/plain": [
       "Text(0.5, 1.0, 'Prob of Emergence for Mutation Model')"
      ]
     },
     "execution_count": 46,
     "metadata": {},
     "output_type": "execute_result"
    },
    {
     "data": {
      "image/png": "[encoded data removed]",
      "text/plain": [
       "<Figure size 432x288 with 1 Axes>"
      ]
     },
     "metadata": {
      "needs_background": "light"
     },
     "output_type": "display_data"
    }
   ],
   "source": [
    "plt.figure()\n",
    "# plt.plot(mean_degree_list, pe_list, 'yo')\n",
    "# plt.plot(mean_degree_list, np.array(pe_0_list_m) +  np.array(pe_1_list_m), 'r+', alpha = 0.5)\n",
    "# plt.plot(mean_degree_list, np.array(pe_0_list_m) , 'g+', alpha = 0.5)\n",
    "# plt.plot(mean_degree_list, np.array(pe_1_list_m) , 'b+', alpha = 0.5)\n",
    "# plt.plot(mean_degree_list, sim_mask_pe1, 'bp', alpha = 0.5)\n",
    "# plt.plot(mean_degree_list, np.array(sim_mask_pe1) , 'bx')\n",
    "# plt.plot(mean_degree_list, np.array(pe_0_list) + np.array(pe_1_list) , 'c+', )\n",
    "plt.plot(mean_degree_list, np.array(pe_0_list) , 'm+', )\n",
    "plt.plot(mean_degree_list, np.array(pe_1_list) , 'y+', )\n",
    "\n",
    "plt.plot(mean_degree_list, sim_mu_pe1 , 'mx', alpha = 0.5)\n",
    "plt.plot(mean_degree_list, sim_mu_pe2 , 'yx', alpha = 0.5)\n",
    "# plt.plot(mean_degree_list, np.array(pe_1_list) , 'yo')\n",
    "\n",
    "plt.xlabel(\"Mean Degree\")\n",
    "plt.ylabel(\"Prob of Emergence\")\n",
    "title = \"Prob of Emergence for Mutation Model\"\n",
    "plt.legend([\n",
    "            \"Seed is strain-1(Mutation model theory)\",\n",
    "            \"Seed is strain-2(Mutation model theory)\", \n",
    "            \"Seed is strain-1(Mutation model simulation)\", \n",
    "    \"Seed is strain-2(Mutation model simulation)\", \n",
    "            \n",
    "            ])\n",
    "#             \"Seed is Strain-2(Mutation model simulation)\"])\n",
    "plt.title(title)"
   ]
  },
  {
   "cell_type": "code",
   "execution_count": null,
   "metadata": {},
   "outputs": [],
   "source": []
  }
 ],
 "metadata": {
  "kernelspec": {
   "display_name": "Python3 (ytian)",
   "language": "python",
   "name": "ytian"
  },
  "language_info": {
   "codemirror_mode": {
    "name": "ipython",
    "version": 3
   },
   "file_extension": ".py",
   "mimetype": "text/x-python",
   "name": "python",
   "nbconvert_exporter": "python",
   "pygments_lexer": "ipython3",
   "version": "3.7.4"
  }
 },
 "nbformat": 4,
 "nbformat_minor": 2
}
